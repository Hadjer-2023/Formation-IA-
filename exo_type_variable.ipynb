{
 "cells": [
  {
   "cell_type": "code",
   "execution_count": 17,
   "id": "a0a79047",
   "metadata": {},
   "outputs": [
    {
     "name": "stdout",
     "output_type": "stream",
     "text": [
      "736\n"
     ]
    }
   ],
   "source": [
    "x = 7\n",
    "y = 3\n",
    "print(x+y**6)"
   ]
  },
  {
   "cell_type": "code",
   "execution_count": 5,
   "id": "d343b8dc",
   "metadata": {},
   "outputs": [
    {
     "name": "stdout",
     "output_type": "stream",
     "text": [
      "343\n"
     ]
    }
   ],
   "source": [
    "a = 3\n",
    "b = 4\n",
    "print((a+b)**3)"
   ]
  },
  {
   "cell_type": "markdown",
   "id": "d5b10c0b",
   "metadata": {},
   "source": [
    "### oui\n"
   ]
  },
  {
   "cell_type": "code",
   "execution_count": 6,
   "id": "c034d999",
   "metadata": {},
   "outputs": [
    {
     "name": "stdout",
     "output_type": "stream",
     "text": [
      "724\n"
     ]
    }
   ],
   "source": [
    "c = 3\n",
    "d = 5\n",
    "print((c**6)-5)"
   ]
  },
  {
   "cell_type": "code",
   "execution_count": 7,
   "id": "54f2f3bf",
   "metadata": {},
   "outputs": [],
   "source": [
    "#non\n",
    "\n"
   ]
  },
  {
   "cell_type": "code",
   "execution_count": 8,
   "id": "72a298cb",
   "metadata": {},
   "outputs": [
    {
     "name": "stdout",
     "output_type": "stream",
     "text": [
      "1285\n"
     ]
    }
   ],
   "source": [
    "e = 1\n",
    "f = 2\n",
    "g = 5\n",
    "print((1+(2**8))*5)"
   ]
  },
  {
   "cell_type": "markdown",
   "id": "653a1b40",
   "metadata": {},
   "source": [
    "# oui\n"
   ]
  },
  {
   "cell_type": "code",
   "execution_count": 11,
   "id": "bf844a70",
   "metadata": {},
   "outputs": [
    {
     "name": "stdout",
     "output_type": "stream",
     "text": [
      "2187\n"
     ]
    }
   ],
   "source": [
    "h = 2\n",
    "i = 1\n",
    "print((2+(1**8))**7)"
   ]
  },
  {
   "cell_type": "code",
   "execution_count": 12,
   "id": "47a26436",
   "metadata": {},
   "outputs": [],
   "source": [
    "#oui\n"
   ]
  },
  {
   "cell_type": "markdown",
   "id": "71b461ef",
   "metadata": {},
   "source": [
    "# exrcice 2:"
   ]
  },
  {
   "cell_type": "code",
   "execution_count": 16,
   "id": "2b0da059",
   "metadata": {},
   "outputs": [
    {
     "name": "stdout",
     "output_type": "stream",
     "text": [
      "27\n"
     ]
    }
   ],
   "source": [
    "a = 1\n",
    "b = 2\n",
    "print((a+b)**3)"
   ]
  },
  {
   "cell_type": "code",
   "execution_count": 18,
   "id": "06c3e986",
   "metadata": {},
   "outputs": [
    {
     "data": {
      "text/plain": [
       "'DaDaDaDa'"
      ]
     },
     "execution_count": 18,
     "metadata": {},
     "output_type": "execute_result"
    }
   ],
   "source": [
    "\"Da\"*4"
   ]
  },
  {
   "cell_type": "code",
   "execution_count": 21,
   "id": "8041787e",
   "metadata": {},
   "outputs": [
    {
     "ename": "TypeError",
     "evalue": "can only concatenate str (not \"int\") to str",
     "output_type": "error",
     "traceback": [
      "\u001b[1;31m---------------------------------------------------------------------------\u001b[0m",
      "\u001b[1;31mTypeError\u001b[0m                                 Traceback (most recent call last)",
      "Cell \u001b[1;32mIn[21], line 1\u001b[0m\n\u001b[1;32m----> 1\u001b[0m \u001b[38;5;28mprint\u001b[39m(\u001b[38;5;124m\"\u001b[39m\u001b[38;5;124mDa\u001b[39m\u001b[38;5;124m\"\u001b[39m\u001b[38;5;241m+\u001b[39m\u001b[38;5;241m3\u001b[39m)\n",
      "\u001b[1;31mTypeError\u001b[0m: can only concatenate str (not \"int\") to str"
     ]
    }
   ],
   "source": [
    "print(\"Da\"+3)"
   ]
  },
  {
   "cell_type": "code",
   "execution_count": 22,
   "id": "8bc6127f",
   "metadata": {},
   "outputs": [
    {
     "data": {
      "text/plain": [
       "'PaLaPaLa'"
      ]
     },
     "execution_count": 22,
     "metadata": {},
     "output_type": "execute_result"
    }
   ],
   "source": [
    "    (\"Pa\"+\"La\") * 2"
   ]
  },
  {
   "cell_type": "code",
   "execution_count": 23,
   "id": "7f59ccff",
   "metadata": {},
   "outputs": [
    {
     "ename": "TypeError",
     "evalue": "unsupported operand type(s) for /: 'str' and 'int'",
     "output_type": "error",
     "traceback": [
      "\u001b[1;31m---------------------------------------------------------------------------\u001b[0m",
      "\u001b[1;31mTypeError\u001b[0m                                 Traceback (most recent call last)",
      "Cell \u001b[1;32mIn[23], line 1\u001b[0m\n\u001b[1;32m----> 1\u001b[0m (\u001b[38;5;124m\"\u001b[39m\u001b[38;5;124mDa\u001b[39m\u001b[38;5;124m\"\u001b[39m\u001b[38;5;241m*\u001b[39m\u001b[38;5;241m4\u001b[39m) \u001b[38;5;241m/\u001b[39m \u001b[38;5;241m2\u001b[39m\n",
      "\u001b[1;31mTypeError\u001b[0m: unsupported operand type(s) for /: 'str' and 'int'"
     ]
    }
   ],
   "source": [
    "(\"Da\"*4) / 2"
   ]
  },
  {
   "cell_type": "code",
   "execution_count": 24,
   "id": "f87cefa6",
   "metadata": {},
   "outputs": [
    {
     "data": {
      "text/plain": [
       "2.5"
      ]
     },
     "execution_count": 24,
     "metadata": {},
     "output_type": "execute_result"
    }
   ],
   "source": [
    "5 / 2\n"
   ]
  },
  {
   "cell_type": "code",
   "execution_count": 25,
   "id": "679aff6b",
   "metadata": {},
   "outputs": [
    {
     "data": {
      "text/plain": [
       "2"
      ]
     },
     "execution_count": 25,
     "metadata": {},
     "output_type": "execute_result"
    }
   ],
   "source": [
    "5 // 2\n"
   ]
  },
  {
   "cell_type": "code",
   "execution_count": 26,
   "id": "0fb1834d",
   "metadata": {},
   "outputs": [
    {
     "data": {
      "text/plain": [
       "1"
      ]
     },
     "execution_count": 26,
     "metadata": {},
     "output_type": "execute_result"
    }
   ],
   "source": [
    "5 % 2"
   ]
  },
  {
   "cell_type": "markdown",
   "id": "a5eec670",
   "metadata": {},
   "source": [
    "# exercice 3"
   ]
  },
  {
   "cell_type": "code",
   "execution_count": 27,
   "id": "875f14ca",
   "metadata": {},
   "outputs": [
    {
     "data": {
      "text/plain": [
       "'444'"
      ]
     },
     "execution_count": 27,
     "metadata": {},
     "output_type": "execute_result"
    }
   ],
   "source": [
    " str(4) * int(\"3\")"
   ]
  },
  {
   "cell_type": "code",
   "execution_count": 36,
   "id": "5daf5827",
   "metadata": {},
   "outputs": [
    {
     "data": {
      "text/plain": [
       "6.2"
      ]
     },
     "execution_count": 36,
     "metadata": {},
     "output_type": "execute_result"
    }
   ],
   "source": [
    "int(\"3\") + float(\"3.2\")\n"
   ]
  },
  {
   "cell_type": "code",
   "execution_count": 37,
   "id": "3a16c8ac",
   "metadata": {},
   "outputs": [
    {
     "ename": "TypeError",
     "evalue": "can't multiply sequence by non-int of type 'float'",
     "output_type": "error",
     "traceback": [
      "\u001b[1;31m---------------------------------------------------------------------------\u001b[0m",
      "\u001b[1;31mTypeError\u001b[0m                                 Traceback (most recent call last)",
      "Cell \u001b[1;32mIn[37], line 1\u001b[0m\n\u001b[1;32m----> 1\u001b[0m \u001b[38;5;28mstr\u001b[39m(\u001b[38;5;241m3\u001b[39m) \u001b[38;5;241m*\u001b[39m \u001b[38;5;28mfloat\u001b[39m(\u001b[38;5;124m\"\u001b[39m\u001b[38;5;124m3.2\u001b[39m\u001b[38;5;124m\"\u001b[39m)\n",
      "\u001b[1;31mTypeError\u001b[0m: can't multiply sequence by non-int of type 'float'"
     ]
    }
   ],
   "source": [
    "str(3) * float(\"3.2\")\n"
   ]
  },
  {
   "cell_type": "code",
   "execution_count": 41,
   "id": "b9cb9c25",
   "metadata": {},
   "outputs": [
    {
     "data": {
      "text/plain": [
       "'0.750.75'"
      ]
     },
     "execution_count": 41,
     "metadata": {},
     "output_type": "execute_result"
    }
   ],
   "source": [
    "str(3/4) * 2"
   ]
  },
  {
   "cell_type": "code",
   "execution_count": null,
   "id": "621adb72",
   "metadata": {},
   "outputs": [],
   "source": []
  }
 ],
 "metadata": {
  "kernelspec": {
   "display_name": "Python 3 (ipykernel)",
   "language": "python",
   "name": "python3"
  },
  "language_info": {
   "codemirror_mode": {
    "name": "ipython",
    "version": 3
   },
   "file_extension": ".py",
   "mimetype": "text/x-python",
   "name": "python",
   "nbconvert_exporter": "python",
   "pygments_lexer": "ipython3",
   "version": "3.11.5"
  }
 },
 "nbformat": 4,
 "nbformat_minor": 5
}
