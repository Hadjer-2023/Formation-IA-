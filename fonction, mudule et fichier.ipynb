{
 "cells": [
  {
   "cell_type": "markdown",
   "id": "8af7521c",
   "metadata": {},
   "source": [
    "# PYTHON BUILT-IN FUNCTIONS"
   ]
  },
  {
   "cell_type": "markdown",
   "id": "731372b0",
   "metadata": {},
   "source": [
    "# explication de la vidéo"
   ]
  },
  {
   "cell_type": "code",
   "execution_count": 1,
   "id": "d5b5707f",
   "metadata": {},
   "outputs": [
    {
     "data": {
      "text/plain": [
       "3"
      ]
     },
     "execution_count": 1,
     "metadata": {},
     "output_type": "execute_result"
    }
   ],
   "source": [
    "x = -3\n",
    "abs(x)"
   ]
  },
  {
   "cell_type": "code",
   "execution_count": 2,
   "id": "f9fecee1",
   "metadata": {},
   "outputs": [
    {
     "data": {
      "text/plain": [
       "3"
      ]
     },
     "execution_count": 2,
     "metadata": {},
     "output_type": "execute_result"
    }
   ],
   "source": [
    "x = 3.14\n",
    "round(x)"
   ]
  },
  {
   "cell_type": "code",
   "execution_count": 5,
   "id": "7dee2e8f",
   "metadata": {},
   "outputs": [
    {
     "data": {
      "text/plain": [
       "-19"
      ]
     },
     "execution_count": 5,
     "metadata": {},
     "output_type": "execute_result"
    }
   ],
   "source": [
    "liste_1 = [0, 23, 14, -19]\n",
    "max(liste_1)\n",
    "min(liste_1)"
   ]
  },
  {
   "cell_type": "code",
   "execution_count": 2,
   "id": "b812af9d",
   "metadata": {},
   "outputs": [
    {
     "data": {
      "text/plain": [
       "int"
      ]
     },
     "execution_count": 2,
     "metadata": {},
     "output_type": "execute_result"
    }
   ],
   "source": [
    "y = '20'\n",
    "y = int(y)\n",
    "type(y)"
   ]
  },
  {
   "cell_type": "code",
   "execution_count": 4,
   "id": "3eb485f6",
   "metadata": {},
   "outputs": [
    {
     "data": {
      "text/plain": [
       "float"
      ]
     },
     "execution_count": 4,
     "metadata": {},
     "output_type": "execute_result"
    }
   ],
   "source": [
    "x = 10\n",
    "x = float(10)\n",
    "type(x)"
   ]
  },
  {
   "cell_type": "code",
   "execution_count": 8,
   "id": "6132f595",
   "metadata": {},
   "outputs": [
    {
     "data": {
      "text/plain": [
       "[0, 61, 63, 243]"
      ]
     },
     "execution_count": 8,
     "metadata": {},
     "output_type": "execute_result"
    }
   ],
   "source": [
    "liste_1 = [0, 61, 63, 243]\n",
    "tuple(liste_1)\n",
    "tuple_1 = tuple(liste_1)\n",
    "list(tuple_1)"
   ]
  },
  {
   "cell_type": "code",
   "execution_count": 13,
   "id": "55e92d2d",
   "metadata": {},
   "outputs": [
    {
     "data": {
      "text/plain": [
       "['Bananes', 'Pommes', 'Poires']"
      ]
     },
     "execution_count": 13,
     "metadata": {},
     "output_type": "execute_result"
    }
   ],
   "source": [
    "Inventaire = {\n",
    "    'Bananes': 5000,\n",
    "    'Pommes': 2094,\n",
    "    'Poires': 412809,\n",
    "}\n",
    "\n",
    "list(Inventaire.keys())"
   ]
  },
  {
   "cell_type": "code",
   "execution_count": 14,
   "id": "0cb1bd2d",
   "metadata": {},
   "outputs": [
    {
     "data": {
      "text/plain": [
       "'0b1111'"
      ]
     },
     "execution_count": 14,
     "metadata": {},
     "output_type": "execute_result"
    }
   ],
   "source": [
    "bin(15)"
   ]
  },
  {
   "cell_type": "code",
   "execution_count": 15,
   "id": "31c92654",
   "metadata": {},
   "outputs": [
    {
     "data": {
      "text/plain": [
       "'0o17'"
      ]
     },
     "execution_count": 15,
     "metadata": {},
     "output_type": "execute_result"
    }
   ],
   "source": [
    "oct(15)"
   ]
  },
  {
   "cell_type": "code",
   "execution_count": 16,
   "id": "5de5326b",
   "metadata": {},
   "outputs": [
    {
     "data": {
      "text/plain": [
       "'0xf'"
      ]
     },
     "execution_count": 16,
     "metadata": {},
     "output_type": "execute_result"
    }
   ],
   "source": [
    "hex(15)"
   ]
  },
  {
   "cell_type": "code",
   "execution_count": 20,
   "id": "fd5a1996",
   "metadata": {},
   "outputs": [
    {
     "name": "stdout",
     "output_type": "stream",
     "text": [
      "la température est de 30 degC a paris\n"
     ]
    }
   ],
   "source": [
    "x = 30\n",
    "ville = 'paris'\n",
    "\n",
    "message = f'la température est de {x} degC a {ville}'\n",
    "print(message)"
   ]
  },
  {
   "cell_type": "code",
   "execution_count": 33,
   "id": "cd7a200d",
   "metadata": {},
   "outputs": [
    {
     "data": {
      "text/plain": [
       "'bonjour'"
      ]
     },
     "execution_count": 33,
     "metadata": {},
     "output_type": "execute_result"
    }
   ],
   "source": [
    "f = open('ficher.txt','w' )\n",
    "f.write('bonjour')\n",
    "f.close()\n",
    "f = open('ficher.txt', 'r')\n",
    "f.read()"
   ]
  },
  {
   "cell_type": "markdown",
   "id": "30b6e28b",
   "metadata": {},
   "source": [
    "# Pour lire un ficher"
   ]
  },
  {
   "cell_type": "code",
   "execution_count": 34,
   "id": "ed4e6b95",
   "metadata": {},
   "outputs": [
    {
     "name": "stdout",
     "output_type": "stream",
     "text": [
      "bonjour\n"
     ]
    }
   ],
   "source": [
    "with open('ficher.txt', 'r') as f:\n",
    "    print(f.read())"
   ]
  },
  {
   "cell_type": "code",
   "execution_count": 35,
   "id": "15d14186",
   "metadata": {},
   "outputs": [
    {
     "name": "stdout",
     "output_type": "stream",
     "text": [
      "bonjour\n"
     ]
    }
   ],
   "source": [
    "with open('ficher.txt', 'r') as f:\n",
    "    print(f.read())"
   ]
  },
  {
   "cell_type": "code",
   "execution_count": 63,
   "id": "ab9d4a6e",
   "metadata": {},
   "outputs": [
    {
     "data": {
      "text/plain": [
       "<function TextIOWrapper.readlines(hint=-1, /)>"
      ]
     },
     "execution_count": 63,
     "metadata": {},
     "output_type": "execute_result"
    }
   ],
   "source": [
    "with open('ficher.txt', 'w') as f:\n",
    "        for i in range(10):\n",
    "            f.write('{}**2 = {}\\n'.format(i, i**2))"
   ]
  },
  {
   "cell_type": "code",
   "execution_count": 68,
   "id": "c3328927",
   "metadata": {},
   "outputs": [
    {
     "data": {
      "text/plain": [
       "['0**2 = 0',\n",
       " '1**2 = 1',\n",
       " '2**2 = 4',\n",
       " '3**2 = 9',\n",
       " '4**2 = 16',\n",
       " '5**2 = 25',\n",
       " '6**2 = 36',\n",
       " '7**2 = 49',\n",
       " '8**2 = 64',\n",
       " '9**2 = 81']"
      ]
     },
     "execution_count": 68,
     "metadata": {},
     "output_type": "execute_result"
    }
   ],
   "source": [
    "with open('ficher.txt', 'r') as f:\n",
    "    liste = f.read().splitlines()\n",
    "liste"
   ]
  },
  {
   "cell_type": "code",
   "execution_count": 75,
   "id": "b51b50f8",
   "metadata": {},
   "outputs": [
    {
     "name": "stdout",
     "output_type": "stream",
     "text": [
      "3.141592653589793\n"
     ]
    }
   ],
   "source": [
    "print(math.pi)"
   ]
  },
  {
   "cell_type": "code",
   "execution_count": null,
   "id": "5d85669c",
   "metadata": {},
   "outputs": [],
   "source": []
  },
  {
   "cell_type": "markdown",
   "id": "bdd27628",
   "metadata": {},
   "source": [
    "print(math.cos(2*math.pi))"
   ]
  },
  {
   "cell_type": "markdown",
   "id": "41ec6de9",
   "metadata": {},
   "source": []
  },
  {
   "cell_type": "code",
   "execution_count": 81,
   "id": "49d2c282",
   "metadata": {},
   "outputs": [
    {
     "name": "stdout",
     "output_type": "stream",
     "text": [
      "148.4131591025766\n"
     ]
    }
   ],
   "source": [
    "import math\n",
    "print(math.exp(5))"
   ]
  },
  {
   "cell_type": "markdown",
   "id": "90133169",
   "metadata": {},
   "source": []
  },
  {
   "cell_type": "code",
   "execution_count": 86,
   "id": "375c1043",
   "metadata": {},
   "outputs": [
    {
     "name": "stdout",
     "output_type": "stream",
     "text": [
      "8.8\n",
      "121.73333333333333\n"
     ]
    }
   ],
   "source": [
    "import statistics\n",
    "liste_1 = [0, 1, 1, 2, 3, 5, 8, 13, 21, 34]\n",
    "print(statistics.mean(liste_1))\n",
    "print(statistics.variance(liste_1))"
   ]
  },
  {
   "cell_type": "code",
   "execution_count": 91,
   "id": "b780aa92",
   "metadata": {},
   "outputs": [
    {
     "name": "stdout",
     "output_type": "stream",
     "text": [
      "8\n",
      "bilal\n",
      "ghanou\n"
     ]
    }
   ],
   "source": [
    "import random\n",
    "print(random.choice(liste_1))\n",
    "print (random.choice(['adem', 'dina', 'bilal', 'hadjer']))\n",
    "print(random.choice(['ghanou', 'amel', 'bilal', 'hadjer', 'sabrina', 'imene', 'amine', 'adem', 'dina']))"
   ]
  },
  {
   "cell_type": "markdown",
   "id": "552578c9",
   "metadata": {},
   "source": [
    "# PANDAS PYTHON Français - Introduction + Analyse du Titanic (17/30)"
   ]
  },
  {
   "cell_type": "code",
   "execution_count": 26,
   "id": "1639edf5",
   "metadata": {},
   "outputs": [
    {
     "data": {
      "text/plain": [
       "<Axes: xlabel='pclass'>"
      ]
     },
     "execution_count": 26,
     "metadata": {},
     "output_type": "execute_result"
    },
    {
     "data": {
      "image/png": "[encoded data removed]",
      "text/plain": [
       "<Figure size 640x480 with 1 Axes>"
      ]
     },
     "metadata": {},
     "output_type": "display_data"
    }
   ],
   "source": [
    "import numpy as np \n",
    "import matplotlib.pyplot as plt \n",
    "import pandas as pd\n",
    "data = pd.read_excel('titanic3.xls')\n",
    "data.shape\n",
    "data.columns\n",
    "data.head()\n",
    "data = data.drop(['name', 'sibsp', 'parch', 'ticket', 'fare', 'cabin', 'embarked', 'boat', 'body', 'home.dest'], axis = 1)\n",
    "data.head()\n",
    "data.describe()\n",
    "data = data.dropna(axis = 0)\n",
    "data.shape\n",
    "data.describe()\n",
    "data['pclass'].value_counts().plot.bar()"
   ]
  },
  {
   "cell_type": "code",
   "execution_count": null,
   "id": "74dee52e",
   "metadata": {},
   "outputs": [],
   "source": [
    "import matplotlib\n",
    "matplotlib."
   ]
  },
  {
   "cell_type": "code",
   "execution_count": null,
   "id": "f9812b81",
   "metadata": {},
   "outputs": [],
   "source": []
  }
 ],
 "metadata": {
  "kernelspec": {
   "display_name": "Python 3 (ipykernel)",
   "language": "python",
   "name": "python3"
  },
  "language_info": {
   "codemirror_mode": {
    "name": "ipython",
    "version": 3
   },
   "file_extension": ".py",
   "mimetype": "text/x-python",
   "name": "python",
   "nbconvert_exporter": "python",
   "pygments_lexer": "ipython3",
   "version": "3.11.5"
  }
 },
 "nbformat": 4,
 "nbformat_minor": 5
}
