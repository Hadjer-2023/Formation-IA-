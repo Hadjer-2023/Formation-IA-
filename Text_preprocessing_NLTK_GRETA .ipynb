{
 "cells": [
  {
   "cell_type": "markdown",
   "id": "eccf7b97",
   "metadata": {},
   "source": [
    "# Text Preprocessing\n",
    "\n",
    "Dans toute tâche d'apprentissage automatique, le nettoyage ou le prétraitement des données est aussi important que la construction du modèle. Les données textuelles sont l'une des formes les moins structurées de données disponibles et lorsqu'il s'agit de traiter le langage humain, c'est trop complexe. \n",
    "Dans ce Brief nous allons travailler sur le prétraitement des données textuelles en utilisant [NLTK](http://www.nltk.org)."
   ]
  },
  {
   "cell_type": "markdown",
   "id": "d20d29f9",
   "metadata": {},
   "source": [
    "## Veille technologique: Natural Language processing (NLP)\n",
    "1- Les cas d'utlisation de NLP dans notre vie  \n",
    "2- Comment Fecebook, Google et Amazon utilisent NLP  \n",
    "3- Préparation des données textuelles  "
   ]
  },
  {
   "cell_type": "markdown",
   "id": "df871de1",
   "metadata": {},
   "source": [
    "## Setup\n"
   ]
  },
  {
   "cell_type": "code",
   "execution_count": 1,
   "id": "14aecb16",
   "metadata": {},
   "outputs": [],
   "source": [
    "#Importer les bibliothèques nécessaires\n",
    "import nltk"
   ]
  },
  {
   "cell_type": "code",
   "execution_count": 2,
   "id": "f49b7e37",
   "metadata": {},
   "outputs": [
    {
     "name": "stderr",
     "output_type": "stream",
     "text": [
      "[nltk_data] Downloading package punkt to\n",
      "[nltk_data]     C:\\Users\\hlakh\\AppData\\Roaming\\nltk_data...\n",
      "[nltk_data]   Unzipping tokenizers\\punkt.zip.\n",
      "[nltk_data] Downloading package stopwords to\n",
      "[nltk_data]     C:\\Users\\hlakh\\AppData\\Roaming\\nltk_data...\n",
      "[nltk_data]   Unzipping corpora\\stopwords.zip.\n"
     ]
    },
    {
     "data": {
      "text/plain": [
       "True"
      ]
     },
     "execution_count": 2,
     "metadata": {},
     "output_type": "execute_result"
    }
   ],
   "source": [
    "#Télécharger les données NLTK \n",
    "nltk.download('punkt')\n",
    "nltk.download('stopwords')"
   ]
  },
  {
   "cell_type": "markdown",
   "id": "7c79a5cf",
   "metadata": {},
   "source": [
    "## Netoyage des données\n",
    "\n",
    "Dans cette partie nous allons utiliser [NLTK](http://www.nltk.org) pour nétoyer un texte de [wikipidéa](https://en.wikipedia.org/wiki/Natural_language_processing) sur la définition du NLP  \n",
    "\"Natural language processing (NLP) is a subfield of linguistics, computer science, and artificial intelligence concerned with the interactions between computers and human language, in particular how to program computers to process and analyze large amounts of natural language data. The goal is a computer capable of \"understanding\" the contents of documents, including the contextual nuances of the language within them. The technology can then accurately extract information and insights contained in the documents as well as categorize and organize the documents themselves.\""
   ]
  },
  {
   "cell_type": "code",
   "execution_count": 18,
   "id": "0a6bf760",
   "metadata": {},
   "outputs": [
    {
     "name": "stdout",
     "output_type": "stream",
     "text": [
      "natural language processing (nlp) is a subfield of linguistics, computer science, and artificial intelligence concerned with the interactions between computers and human language, in particular how to program computers to process and analyze large amounts of natural language data. the goal is a computer capable of \"understanding\" the contents of documents, including the contextual nuances of the language within them. the technology can then accurately extract information and insights contained in the documents as well as categorize and organize the documents themselves.\n"
     ]
    }
   ],
   "source": [
    "#Lowercase: Mettre tout le texte en minuscule\n",
    "text= 'Natural language processing (NLP) is a subfield of linguistics, computer science, and artificial intelligence concerned with the interactions between computers and human language, in particular how to program computers to process and analyze large amounts of natural language data. The goal is a computer capable of \"understanding\" the contents of documents, including the contextual nuances of the language within them. The technology can then accurately extract information and insights contained in the documents as well as categorize and organize the documents themselves.'\n",
    "\n",
    "def lowercase_text(text):\n",
    "    \n",
    "    lowercase_text = text.lower()\n",
    "    return lowercase_text\n",
    "\n",
    "# utilisation de la fonction\n",
    "\n",
    "lowercase_result = lowercase_text(text)\n",
    "print(lowercase_result)"
   ]
  },
  {
   "cell_type": "code",
   "execution_count": 14,
   "id": "463e7d54",
   "metadata": {},
   "outputs": [
    {
     "name": "stdout",
     "output_type": "stream",
     "text": [
      "Natural language processing NLP is a subfield of linguistics computer science and artificial intelligence concerned with the interactions between computers and human language in particular how to program computers to process and analyze large amounts of natural language data The goal is a computer capable of understanding the contents of documents including the contextual nuances of the language within them The technology can then accurately extract information and insights contained in the documents as well as categorize and organize the documents themselves\n"
     ]
    }
   ],
   "source": [
    "#Supprimer les punctuation\n",
    "import string\n",
    "\n",
    "def remove_punctuation(text):\n",
    "    translator = str.maketrans('', '', string.punctuation)\n",
    "    return text.translate(translator)\n",
    "\n",
    "# Exemple d'utilisation :\n",
    "\n",
    "text_without_punctuation = remove_punctuation(text)\n",
    "print(text_without_punctuation)"
   ]
  },
  {
   "cell_type": "markdown",
   "id": "d1e3cdd6",
   "metadata": {},
   "source": [
    "### Word Tokenization\n",
    "La tokénisation([Tokenize](https://www.nltk.org/api/nltk.tokenize.html#module-nltk.tokenize.casual)) consiste à diviser les chaînes de caractères en mots individuels sans blancs ni tabulations.\n"
   ]
  },
  {
   "cell_type": "code",
   "execution_count": 24,
   "id": "d4cf7be2",
   "metadata": {},
   "outputs": [
    {
     "name": "stdout",
     "output_type": "stream",
     "text": [
      "['Natural', 'language', 'processing', '(', 'NLP', ')', 'is', 'a', 'subfield', 'of', 'linguistics', ',', 'computer', 'science', ',', 'and', 'artificial', 'intelligence', 'concerned', 'with', 'the', 'interactions', 'between', 'computers', 'and', 'human', 'language', ',', 'in', 'particular', 'how', 'to', 'program', 'computers', 'to', 'process', 'and', 'analyze', 'large', 'amounts', 'of', 'natural', 'language', 'data', '.', 'The', 'goal', 'is', 'a', 'computer', 'capable', 'of', '``', 'understanding', \"''\", 'the', 'contents', 'of', 'documents', ',', 'including', 'the', 'contextual', 'nuances', 'of', 'the', 'language', 'within', 'them', '.', 'The', 'technology', 'can', 'then', 'accurately', 'extract', 'information', 'and', 'insights', 'contained', 'in', 'the', 'documents', 'as', 'well', 'as', 'categorize', 'and', 'organize', 'the', 'documents', 'themselves', '.']\n"
     ]
    }
   ],
   "source": [
    "from nltk import word_tokenize, sent_tokenize\n",
    "\n",
    "\n",
    "def tokenize_text(text):\n",
    "   \n",
    "# Utilisation du tokeniseur de NLTK pour diviser le texte en mots\n",
    "\n",
    "    tokens = word_tokenize(text)\n",
    "    return tokens\n",
    "\n",
    "# Exemple d'utilisation de la fonction\n",
    "\n",
    "tokens = tokenize_text(text)\n",
    "print(tokens)"
   ]
  },
  {
   "cell_type": "markdown",
   "id": "3ec18ba3",
   "metadata": {},
   "source": [
    "### Stopwords\n",
    "Les mots d'arrêt sont des mots qui n'ajoutent pas de sens significatif au texte. Utiliser NLTK pour lister les stop words et les supprimer du textes."
   ]
  },
  {
   "cell_type": "code",
   "execution_count": 21,
   "id": "ad98be4a",
   "metadata": {},
   "outputs": [
    {
     "name": "stdout",
     "output_type": "stream",
     "text": [
      "['Natural', 'language', 'processing', '(', 'NLP', ')', 'is', 'a', 'subfield', 'of', 'linguistics', ',', 'computer', 'science', ',', 'and', 'artificial', 'intelligence', 'concerned', 'with', 'the', 'interactions', 'between', 'computers', 'and', 'human', 'language', ',', 'in', 'particular', 'how', 'to', 'program', 'computers', 'to', 'process', 'and', 'analyze', 'large', 'amounts', 'of', 'natural', 'language', 'data', '.', 'The', 'goal', 'is', 'a', 'computer', 'capable', 'of', '``', 'understanding', \"''\", 'the', 'contents', 'of', 'documents', ',', 'including', 'the', 'contextual', 'nuances', 'of', 'the', 'language', 'within', 'them', '.', 'The', 'technology', 'can', 'then', 'accurately', 'extract', 'information', 'and', 'insights', 'contained', 'in', 'the', 'documents', 'well', 'categorize', 'and', 'organize', 'the', 'documents', 'themselves', '.']\n"
     ]
    }
   ],
   "source": [
    "from nltk.corpus import stopwords # module for stop words that come with NLTK\n",
    "\n",
    "#récupérer les stopwords\n",
    "\n",
    "from nltk.corpus import stopwords\n",
    "from nltk.tokenize import word_tokenize\n",
    "\n",
    "# Supprimer les stopwords\n",
    "\n",
    "import nltk\n",
    "from nltk.tokenize import word_tokenize\n",
    "from nltk.corpus import stopwords\n",
    "\n",
    "def remove_stopwords(tokens):\n",
    "    \n",
    " # Importation des mots d'arrêt français\n",
    "    french_stopwords = set(stopwords.words('french'))\n",
    "    \n",
    "    # Suppression des stopwords de la liste de tokens\n",
    "    filtered_tokens = [word for word in tokens if word.lower() not in french_stopwords]\n",
    "    \n",
    "    return filtered_tokens\n",
    "\n",
    "# utilisation de la fonction\n",
    "\n",
    "tokens = word_tokenize(text)\n",
    "filtered_tokens = remove_stopwords(tokens)\n",
    "print(filtered_tokens)\n",
    "\n",
    "\n",
    "# Tokenisation du texte en mots\n",
    "words = word_tokenize(text)\n",
    "\n",
    "# Importation des mots d'arrêt\n",
    "french_stopwords = set(stopwords.words('french'))"
   ]
  },
  {
   "cell_type": "markdown",
   "id": "25588009",
   "metadata": {},
   "source": [
    "### Stemming\n",
    "L'étymologie est le processus qui consiste à réduire les mots à leur racine, leur base ou leur forme ([Stemming](https://en.wikipedia.org/wiki/Stemming) )."
   ]
  },
  {
   "cell_type": "code",
   "execution_count": 23,
   "id": "1d9ce894",
   "metadata": {},
   "outputs": [
    {
     "name": "stdout",
     "output_type": "stream",
     "text": [
      "['natural', 'languag', 'processing', '(', 'nlp', ')', 'is', 'a', 'subfield', 'of', 'linguistic', ',', 'comput', 'scienc', ',', 'and', 'artificial', 'intelligent', 'concerned', 'with', 'the', 'interact', 'between', 'computer', 'and', 'human', 'languag', ',', 'in', 'particular', 'how', 'to', 'program', 'computer', 'to', 'process', 'and', 'analyz', 'larg', 'amount', 'of', 'natural', 'languag', 'dat', '.', 'the', 'goal', 'is', 'a', 'comput', 'capabl', 'of', '``', 'understanding', \"''\", 'the', 'content', 'of', 'docu', ',', 'including', 'the', 'contextual', 'nuanc', 'of', 'the', 'languag', 'within', 'them', '.', 'the', 'technology', 'can', 'then', 'accurately', 'extract', 'inform', 'and', 'insight', 'contained', 'in', 'the', 'docu', 'as', 'wel', 'as', 'categoriz', 'and', 'organiz', 'the', 'docu', 'themselv', '.']\n"
     ]
    }
   ],
   "source": [
    "from nltk.stem import SnowballStemmer\n",
    "\n",
    "def stem_words(tokens):\n",
    "   \n",
    "    # Initialisation du stemmer pour le français\n",
    "    stemmer = SnowballStemmer('french')\n",
    "\n",
    "    # Stemmatisation de chaque mot dans la liste\n",
    "    stemmed_words = [stemmer.stem(word) for word in tokens]\n",
    "    \n",
    "    return stemmed_words\n",
    "\n",
    "# utilisation de la fonction\n",
    "tokens = word_tokenize(text)\n",
    "stemmed_tokens = stem_words(tokens)\n",
    "print(stemmed_tokens)"
   ]
  },
  {
   "cell_type": "markdown",
   "id": "a3610110",
   "metadata": {},
   "source": [
    "# What about Twitter messages !! :)\n",
    "\n",
    "Dans cette partie nous allons appliquer les étapes de prétraitement de texte sur une base de données des messages Twitters "
   ]
  },
  {
   "cell_type": "code",
   "execution_count": 25,
   "id": "4c886a45",
   "metadata": {},
   "outputs": [],
   "source": [
    "import nltk                                # Python library for NLP\n",
    "from nltk.corpus import twitter_samples    # sample Twitter dataset from NLTK\n",
    "import matplotlib.pyplot as plt            # library for visualization\n",
    "import random                              # pseudo-random number generator"
   ]
  },
  {
   "cell_type": "code",
   "execution_count": 26,
   "id": "3d270188",
   "metadata": {},
   "outputs": [
    {
     "name": "stderr",
     "output_type": "stream",
     "text": [
      "[nltk_data] Downloading package twitter_samples to\n",
      "[nltk_data]     C:\\Users\\hlakh\\AppData\\Roaming\\nltk_data...\n",
      "[nltk_data]   Unzipping corpora\\twitter_samples.zip.\n"
     ]
    },
    {
     "data": {
      "text/plain": [
       "True"
      ]
     },
     "execution_count": 26,
     "metadata": {},
     "output_type": "execute_result"
    }
   ],
   "source": [
    "nltk.download('twitter_samples')"
   ]
  },
  {
   "cell_type": "code",
   "execution_count": 27,
   "id": "979b2607",
   "metadata": {},
   "outputs": [],
   "source": [
    "# select the set of positive and negative tweets\n",
    "all_positive_tweets = twitter_samples.strings('positive_tweets.json')\n",
    "all_negative_tweets = twitter_samples.strings('negative_tweets.json')"
   ]
  },
  {
   "cell_type": "code",
   "execution_count": 28,
   "id": "061ed30c",
   "metadata": {},
   "outputs": [
    {
     "name": "stdout",
     "output_type": "stream",
     "text": [
      "\u001b[92m@CjayBlanco  follow @jnlazts &amp; http://t.co/RCvcYYO0Iq follow u back :)\n",
      "\u001b[91m@misses0wl still sad that they kicked out the epic motherfucker :(\n"
     ]
    }
   ],
   "source": [
    "#print positive in greeen\n",
    "print('\\033[92m' + all_positive_tweets[random.randint(0,5000)])\n",
    "\n",
    "# print negative in red\n",
    "print('\\033[91m' + all_negative_tweets[random.randint(0,5000)])"
   ]
  },
  {
   "cell_type": "code",
   "execution_count": null,
   "id": "4d66e283",
   "metadata": {},
   "outputs": [],
   "source": []
  }
 ],
 "metadata": {
  "kernelspec": {
   "display_name": "Python 3 (ipykernel)",
   "language": "python",
   "name": "python3"
  },
  "language_info": {
   "codemirror_mode": {
    "name": "ipython",
    "version": 3
   },
   "file_extension": ".py",
   "mimetype": "text/x-python",
   "name": "python",
   "nbconvert_exporter": "python",
   "pygments_lexer": "ipython3",
   "version": "3.11.5"
  }
 },
 "nbformat": 4,
 "nbformat_minor": 5
}
