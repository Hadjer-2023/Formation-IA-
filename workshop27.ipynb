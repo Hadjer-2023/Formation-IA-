{
 "cells": [
  {
   "cell_type": "markdown",
   "id": "440169e3",
   "metadata": {},
   "source": [
    "# workshop python 1: variables, conditions et boucles"
   ]
  },
  {
   "cell_type": "markdown",
   "id": "bf57ddfa",
   "metadata": {},
   "source": [
    "# step 1: ecrire une fonction main"
   ]
  },
  {
   "cell_type": "code",
   "execution_count": 7,
   "id": "c81c67e7",
   "metadata": {},
   "outputs": [
    {
     "name": "stdout",
     "output_type": "stream",
     "text": [
      "<<Bienvenue dans le jeu de la dichotomie !>>:\n"
     ]
    },
    {
     "data": {
      "text/plain": [
       "0"
      ]
     },
     "execution_count": 7,
     "metadata": {},
     "output_type": "execute_result"
    }
   ],
   "source": [
    "def main():\n",
    "    print(\"<<Bienvenue dans le jeu de la dichotomie !>>:\")\n",
    "    return 0\n",
    "    \n",
    "main ()"
   ]
  },
  {
   "cell_type": "markdown",
   "id": "017ff985",
   "metadata": {},
   "source": [
    "# step 2: récupérer le nom du joueur"
   ]
  },
  {
   "cell_type": "code",
   "execution_count": 47,
   "id": "16a37940",
   "metadata": {},
   "outputs": [
    {
     "name": "stdout",
     "output_type": "stream",
     "text": [
      "comment tu t'appel:Hadjer\n"
     ]
    },
    {
     "data": {
      "text/plain": [
       "0"
      ]
     },
     "execution_count": 47,
     "metadata": {},
     "output_type": "execute_result"
    }
   ],
   "source": [
    "def main():\n",
    "    userName = input(\"comment tu t'appel:\") # on fait connaissance\n",
    "    return 0\n",
    "    \n",
    "main ()"
   ]
  },
  {
   "cell_type": "markdown",
   "id": "069bd8b5",
   "metadata": {},
   "source": [
    "# step 3: les instructions du jeu "
   ]
  },
  {
   "cell_type": "code",
   "execution_count": 30,
   "id": "0369e739",
   "metadata": {},
   "outputs": [
    {
     "name": "stdout",
     "output_type": "stream",
     "text": [
      "comment tu t'appel:Hadjer\n",
      "Hadjer pense à un nombre entre 0 et 100\n"
     ]
    },
    {
     "data": {
      "text/plain": [
       "0"
      ]
     },
     "execution_count": 30,
     "metadata": {},
     "output_type": "execute_result"
    }
   ],
   "source": [
    "def main():\n",
    "    userName = input(\"comment tu t'appel:\") # on fait connaissance\n",
    "    minValue = 0\n",
    "    maxValue = 100\n",
    "    print(userName + \" pense à un nombre entre \" + str(minValue) + \" et \" + str(maxValue))\n",
    "    return 0\n",
    "    \n",
    "main ()\n",
    "\n",
    "# on ne peut pas mettre la variable directement dans la focntion print: CAR ON NE PEUT PAS CONCATENER UN STRING AVEC EN ENTIER.\n"
   ]
  },
  {
   "cell_type": "markdown",
   "id": "f1424736",
   "metadata": {},
   "source": [
    "# step 4: définir le nombre en utilisant la dichotomie:"
   ]
  },
  {
   "cell_type": "code",
   "execution_count": 72,
   "id": "783761ae",
   "metadata": {},
   "outputs": [
    {
     "name": "stdout",
     "output_type": "stream",
     "text": [
      "Comment tu t'appelles : Hadjer\n",
      "Hadjer, pense à un nombre entre 0 et 100\n",
      "Est-ce que le nombre est plus grand, plus petit ou égal à 50? [+/-/=] +\n",
      "Est-ce que le nombre est plus grand, plus petit ou égal à 75? [+/-/=] -\n",
      "Est-ce que le nombre est plus grand, plus petit ou égal à 62? [+/-/=] +\n",
      "Est-ce que le nombre est plus grand, plus petit ou égal à 68? [+/-/=] -\n",
      "Est-ce que le nombre est plus grand, plus petit ou égal à 65? [+/-/=] -\n",
      "Est-ce que le nombre est plus grand, plus petit ou égal à 63? [+/-/=] +\n",
      "Est-ce que le nombre est plus grand, plus petit ou égal à 64? [+/-/=] =\n",
      "Félicitations! Le nombre est 64\n"
     ]
    },
    {
     "data": {
      "text/plain": [
       "0"
      ]
     },
     "execution_count": 72,
     "metadata": {},
     "output_type": "execute_result"
    }
   ],
   "source": [
    "def main():\n",
    "    userName = input(\"Comment tu t'appelles : \")  # On fait connaissance\n",
    "    minValue = 0\n",
    "    maxValue = 100\n",
    "    print(userName + \", pense à un nombre entre \" + str(minValue) + \" et \" + str(maxValue))\n",
    "    \n",
    "    repense = \"+\"\n",
    "    while repense != \"=\":\n",
    "        milieu = (minValue + maxValue) // 2\n",
    "    \n",
    "        repense = input(f\"Est-ce que le nombre est plus grand, plus petit ou égal à {milieu}? [+/-/=] \")\n",
    "        \n",
    "        if repense == \"+\":\n",
    "            minValue = milieu + 1  # On ajuste la plage, le nombre ne peut pas être le milieu\n",
    "        elif repense == \"-\":\n",
    "            maxValue = milieu - 1  # On ajuste la plage, le nombre ne peut pas être le milieu\n",
    "        elif repense == \"=\":\n",
    "            print(\"Félicitations! Le nombre est\", milieu)\n",
    "        else:\n",
    "            print(\"Veuillez entrer '+', '-', ou '='.\")\n",
    "\n",
    "    return 0\n",
    "\n",
    "main()\n",
    "\n",
    "\n",
    "\n",
    "\n",
    "\n",
    "\n",
    "\n"
   ]
  },
  {
   "cell_type": "markdown",
   "id": "5a53dd1f",
   "metadata": {},
   "source": [
    "# step 5: compte rendu"
   ]
  },
  {
   "cell_type": "code",
   "execution_count": 78,
   "id": "dbede544",
   "metadata": {},
   "outputs": [
    {
     "name": "stdout",
     "output_type": "stream",
     "text": [
      "Comment tu t'appelles : Hadjer\n",
      "Hadjer, pense à un nombre entre 0 et 100\n",
      "Est-ce que le nombre est plus grand, plus petit ou égal à 50? [+/-/=] +\n",
      "Est-ce que le nombre est plus grand, plus petit ou égal à 75? [+/-/=] -\n",
      "Est-ce que le nombre est plus grand, plus petit ou égal à 62? [+/-/=] +\n",
      "Est-ce que le nombre est plus grand, plus petit ou égal à 68? [+/-/=] -\n",
      "Est-ce que le nombre est plus grand, plus petit ou égal à 65? [+/-/=] -\n",
      "Est-ce que le nombre est plus grand, plus petit ou égal à 63? [+/-/=] +\n",
      "Est-ce que le nombre est plus grand, plus petit ou égal à 64? [+/-/=] =\n",
      "Félicitations! Le nombre est 64\n"
     ]
    },
    {
     "data": {
      "text/plain": [
       "0"
      ]
     },
     "execution_count": 78,
     "metadata": {},
     "output_type": "execute_result"
    }
   ],
   "source": [
    "def main():\n",
    "    userName = input(\"Comment tu t'appelles : \")  # On fait connaissance\n",
    "    minValue = 0\n",
    "    maxValue = 100\n",
    "    print(userName + \", pense à un nombre entre \" + str(minValue) + \" et \" + str(maxValue))\n",
    "    \n",
    "    repense = \"+\"\n",
    "    while repense != \"=\":\n",
    "        milieu = (minValue + maxValue) // 2\n",
    "    \n",
    "        repense = input(f\"Est-ce que le nombre est plus grand, plus petit ou égal à {milieu}? [+/-/=] \")\n",
    "        \n",
    "        if repense == \"+\":\n",
    "            minValue = milieu + 1  # On ajuste la plage, le nombre ne peut pas être le milieu\n",
    "        elif repense == \"-\":\n",
    "            maxValue = milieu - 1  # On ajuste la plage, le nombre ne peut pas être le milieu\n",
    "        elif repense == \"=\":\n",
    "            print(\"Félicitations! Le nombre est\", milieu)\n",
    "        else:\n",
    "            print(\"Veuillez entrer '+', '-', ou '='.\")\n",
    "\n",
    "    return 0\n",
    "\n",
    "main()\n"
   ]
  },
  {
   "cell_type": "code",
   "execution_count": null,
   "id": "5972ebb3",
   "metadata": {},
   "outputs": [],
   "source": []
  }
 ],
 "metadata": {
  "kernelspec": {
   "display_name": "Python 3 (ipykernel)",
   "language": "python",
   "name": "python3"
  },
  "language_info": {
   "codemirror_mode": {
    "name": "ipython",
    "version": 3
   },
   "file_extension": ".py",
   "mimetype": "text/x-python",
   "name": "python",
   "nbconvert_exporter": "python",
   "pygments_lexer": "ipython3",
   "version": "3.11.5"
  }
 },
 "nbformat": 4,
 "nbformat_minor": 5
}
