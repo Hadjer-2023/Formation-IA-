{
 "cells": [
  {
   "cell_type": "markdown",
   "id": "5ba9ecc1",
   "metadata": {},
   "source": [
    "# Importance de l'indentation"
   ]
  },
  {
   "cell_type": "markdown",
   "id": "9c939d90",
   "metadata": {},
   "source": [
    "# code 1"
   ]
  },
  {
   "cell_type": "code",
   "execution_count": 3,
   "id": "ad9d4143",
   "metadata": {},
   "outputs": [
    {
     "name": "stdout",
     "output_type": "stream",
     "text": [
      "Le test est vrai\n",
      "car la variable nb vaut 5\n"
     ]
    }
   ],
   "source": [
    "nombres = [4, 5, 6]\n",
    "for nb in nombres:\n",
    "    if nb == 5:\n",
    "        print(\"Le test est vrai\")\n",
    "        print(f\"car la variable nb vaut {nb}\")\n"
   ]
  },
  {
   "cell_type": "markdown",
   "id": "d163eb2c",
   "metadata": {},
   "source": [
    "# code 2 "
   ]
  },
  {
   "cell_type": "code",
   "execution_count": 4,
   "id": "74a3c5e1",
   "metadata": {},
   "outputs": [
    {
     "name": "stdout",
     "output_type": "stream",
     "text": [
      "car la variable nb vaut 4\n",
      "Le test est vrai\n",
      "car la variable nb vaut 5\n",
      "car la variable nb vaut 6\n"
     ]
    }
   ],
   "source": [
    "nombres = [4, 5, 6]\n",
    "for nb in nombres:\n",
    "    if nb == 5:\n",
    "        print(\"Le test est vrai\")\n",
    "    print(f\"car la variable nb vaut {nb}\")\n"
   ]
  },
  {
   "cell_type": "markdown",
   "id": "364db97a",
   "metadata": {},
   "source": [
    "# Exercices : "
   ]
  },
  {
   "cell_type": "code",
   "execution_count": 5,
   "id": "0385def3",
   "metadata": {},
   "outputs": [
    {
     "name": "stdout",
     "output_type": "stream",
     "text": [
      "Au travail, c'est lundi.\n",
      "Au travail, c'est mardi.\n",
      "Au travail, c'est mercredi.\n",
      "Au travail, c'est jeudi.\n",
      "Chouette, c'est vendredi !\n",
      "Repos ce week-end, c'est samedi\n",
      "Repos ce week-end, c'est dimanche\n"
     ]
    }
   ],
   "source": [
    "semaine = [\"lundi\", \"mardi\", \"mercredi\", \"jeudi\", \"vendredi\", \"samedi\", \"dimanche\"]\n",
    "\n",
    "for jour in semaine:\n",
    "    if jour in [\"lundi\", \"mardi\", \"mercredi\", \"jeudi\"]:\n",
    "        print(f\"Au travail, c'est {jour}.\")\n",
    "    elif jour == \"vendredi\":\n",
    "        print(\"Chouette, c'est vendredi !\")\n",
    "    else:\n",
    "        print(\"Repos ce week-end, c'est {}\".format(jour))\n"
   ]
  },
  {
   "cell_type": "markdown",
   "id": "ca2d6051",
   "metadata": {},
   "source": [
    "# 6.7.2 Séquence complémentaire d'un brin d'ADN¶"
   ]
  },
  {
   "cell_type": "code",
   "execution_count": 6,
   "id": "f0a4c603",
   "metadata": {},
   "outputs": [
    {
     "name": "stdout",
     "output_type": "stream",
     "text": [
      "Séquence d'origine : ['A', 'C', 'G', 'T', 'T', 'A', 'G', 'C', 'T', 'A', 'A', 'C', 'G']\n",
      "Séquence complémentaire : ['T', 'G', 'C', 'A', 'A', 'T', 'C', 'G', 'A', 'T', 'T', 'G', 'C']\n"
     ]
    }
   ],
   "source": [
    "sequence_adn = [\"A\", \"C\", \"G\", \"T\", \"T\", \"A\", \"G\", \"C\", \"T\", \"A\", \"A\", \"C\", \"G\"]\n",
    "\n",
    "# Dictionnaire de correspondance pour obtenir la séquence complémentaire\n",
    "correspondance_complementaire = {\"A\": \"T\", \"T\": \"A\", \"C\": \"G\", \"G\": \"C\"}\n",
    "\n",
    "# Transformation de la séquence en séquence complémentaire\n",
    "sequence_complementaire = [correspondance_complementaire[base] for base in sequence_adn]\n",
    "\n",
    "# Affichage de la séquence complémentaire\n",
    "print(\"Séquence d'origine :\", sequence_adn)\n",
    "print(\"Séquence complémentaire :\", sequence_complementaire)\n"
   ]
  },
  {
   "cell_type": "markdown",
   "id": "2c5e1a11",
   "metadata": {},
   "source": [
    "# 6.7.3 Minimum d'une liste"
   ]
  },
  {
   "cell_type": "code",
   "execution_count": 7,
   "id": "02a0d97f",
   "metadata": {},
   "outputs": [
    {
     "name": "stdout",
     "output_type": "stream",
     "text": [
      "Le plus petit élément de la liste est : 1\n"
     ]
    }
   ],
   "source": [
    "liste = [8, 4, 6, 1, 5]\n",
    "\n",
    "# Initialisation avec le premier élément de la liste\n",
    "plus_petit = liste[0]\n",
    "\n",
    "# Parcours de la liste pour trouver le plus petit élément\n",
    "for element in liste:\n",
    "    if element < plus_petit:\n",
    "        plus_petit = element\n",
    "\n",
    "# Affichage du résultat\n",
    "print(\"Le plus petit élément de la liste est :\", plus_petit)\n"
   ]
  },
  {
   "cell_type": "code",
   "execution_count": 8,
   "id": "5ec383e4",
   "metadata": {},
   "outputs": [
    {
     "name": "stdout",
     "output_type": "stream",
     "text": [
      "Fréquence de l'alanine (A) : 5\n",
      "Fréquence de l'arginine (R) : 3\n",
      "Fréquence du tryptophane (W) : 5\n",
      "Fréquence de la glycine (G) : 1\n"
     ]
    }
   ],
   "source": [
    "sequence_amino_acides = [\"A\", \"R\", \"A\", \"W\", \"W\", \"A\", \"W\", \"A\", \"R\", \"W\", \"W\", \"R\", \"A\", \"G\"]\n",
    "\n",
    "# Initialisation des compteurs pour chaque acide aminé\n",
    "compteur_A = 0\n",
    "compteur_R = 0\n",
    "compteur_W = 0\n",
    "compteur_G = 0\n",
    "\n",
    "# Parcours de la séquence pour compter la fréquence de chaque acide aminé\n",
    "for acide_amino in sequence_amino_acides:\n",
    "    if acide_amino == \"A\":\n",
    "        compteur_A += 1\n",
    "    elif acide_amino == \"R\":\n",
    "        compteur_R += 1\n",
    "    elif acide_amino == \"W\":\n",
    "        compteur_W += 1\n",
    "    elif acide_amino == \"G\":\n",
    "        compteur_G += 1\n",
    "\n",
    "# Affichage des résultats\n",
    "print(\"Fréquence de l'alanine (A) :\", compteur_A)\n",
    "print(\"Fréquence de l'arginine (R) :\", compteur_R)\n",
    "print(\"Fréquence du tryptophane (W) :\", compteur_W)\n",
    "print(\"Fréquence de la glycine (G) :\", compteur_G)\n"
   ]
  },
  {
   "cell_type": "markdown",
   "id": "41ddd947",
   "metadata": {},
   "source": [
    "# 6.7.5 Notes et mention d'un étudiant"
   ]
  },
  {
   "cell_type": "code",
   "execution_count": 1,
   "id": "d533a446",
   "metadata": {},
   "outputs": [
    {
     "name": "stdout",
     "output_type": "stream",
     "text": [
      "Note maximale : 15\n",
      "Note minimale : 9\n",
      "Moyenne : 12.60\n",
      "Mention obtenue : Assez bien\n"
     ]
    }
   ],
   "source": [
    "notes = [14, 9, 13, 15, 12]\n",
    "\n",
    "# Calcul de la note maximale, minimale et moyenne\n",
    "note_max = max(notes)\n",
    "note_min = min(notes)\n",
    "moyenne = sum(notes) / len(notes)\n",
    "\n",
    "# Affichage des résultats\n",
    "print(\"Note maximale :\", note_max)\n",
    "print(\"Note minimale :\", note_min)\n",
    "print(\"Moyenne :\", \"{:.2f}\".format(moyenne))\n",
    "\n",
    "# Détermination de la mention\n",
    "if 10 <= moyenne < 12:\n",
    "    mention = \"Passable\"\n",
    "elif 12 <= moyenne < 14:\n",
    "    mention = \"Assez bien\"\n",
    "else:\n",
    "    mention = \"Bien\"\n",
    "\n",
    "print(\"Mention obtenue :\", mention)\n",
    "\n",
    "\n"
   ]
  },
  {
   "cell_type": "markdown",
   "id": "aa4e2aa3",
   "metadata": {},
   "source": [
    "# Nombres pairs"
   ]
  },
  {
   "cell_type": "code",
   "execution_count": 2,
   "id": "2137386a",
   "metadata": {},
   "outputs": [
    {
     "name": "stdout",
     "output_type": "stream",
     "text": [
      "Nombres pairs inférieurs ou égaux à 10 : 0\n",
      "Nombres pairs inférieurs ou égaux à 10 : 2\n",
      "Nombres pairs inférieurs ou égaux à 10 : 4\n",
      "Nombres pairs inférieurs ou égaux à 10 : 6\n",
      "Nombres pairs inférieurs ou égaux à 10 : 8\n",
      "Nombres pairs inférieurs ou égaux à 10 : 10\n",
      "Nombres impairs strictement supérieurs à 10 : 11\n",
      "Nombres impairs strictement supérieurs à 10 : 13\n",
      "Nombres impairs strictement supérieurs à 10 : 15\n",
      "Nombres impairs strictement supérieurs à 10 : 17\n",
      "Nombres impairs strictement supérieurs à 10 : 19\n"
     ]
    }
   ],
   "source": [
    "# Parcours des nombres de 0 à 20\n",
    "for nombre in range(21):\n",
    "    # Affichage des nombres pairs inférieurs ou égaux à 10\n",
    "    if nombre <= 10 and nombre % 2 == 0:\n",
    "        print(f\"Nombres pairs inférieurs ou égaux à 10 : {nombre}\")\n",
    "\n",
    "    # Affichage des nombres impairs strictement supérieurs à 10\n",
    "    elif nombre  Conjecture de Syracuse (exercice +++) 10 and nombre % 2 != 0:\n",
    "        print(f\"Nombres impairs strictement supérieurs à 10 : {nombre}\")\n"
   ]
  },
  {
   "cell_type": "markdown",
   "id": "4d93a1f1",
   "metadata": {},
   "source": [
    "#  Conjecture de Syracuse (exercice +++)"
   ]
  },
  {
   "cell_type": "code",
   "execution_count": 6,
   "id": "284ca2fb",
   "metadata": {},
   "outputs": [
    {
     "name": "stdout",
     "output_type": "stream",
     "text": [
      "\n",
      "Suite de Syracuse pour le point de départ 10 : [10, 5, 16, 8, 4, 2, 1]\n",
      "La conjecture de Syracuse est vérifiée.\n",
      "Cycle trivial : [4, 2, 1]\n",
      "\n",
      "Suite de Syracuse pour le point de départ 20 : [20, 10, 5, 16, 8, 4, 2, 1]\n",
      "La conjecture de Syracuse est vérifiée.\n",
      "Cycle trivial : [4, 2, 1]\n",
      "\n",
      "Suite de Syracuse pour le point de départ 5 : [5, 16, 8, 4, 2, 1]\n",
      "La conjecture de Syracuse est vérifiée.\n",
      "Cycle trivial : [4, 2, 1]\n",
      "\n",
      "Suite de Syracuse pour le point de départ 7 : [7, 22, 11, 34, 17, 52, 26, 13, 40, 20, 10, 5, 16, 8, 4, 2, 1]\n",
      "La conjecture de Syracuse est vérifiée.\n",
      "Cycle trivial : [4, 2, 1]\n"
     ]
    }
   ],
   "source": [
    "def syracuse(n, sequence=None):\n",
    "    \"\"\"\n",
    "    Génère la suite de Syracuse à partir d'un entier positif n de manière récursive.\n",
    "\n",
    "    Parameters:\n",
    "    n (int): Entier positif de départ.\n",
    "    sequence (list): Liste des nombres de la suite (utilisée pour la récursivité).\n",
    "\n",
    "    Returns:\n",
    "    list: Liste des nombres de la suite de Syracuse.\n",
    "    \"\"\"\n",
    "    if sequence is None:\n",
    "        sequence = []\n",
    "\n",
    "    sequence.append(n)\n",
    "\n",
    "    if n == 1:\n",
    "        return sequence\n",
    "    elif n % 2 == 0:\n",
    "        return syracuse(n // 2, sequence)\n",
    "    else:\n",
    "        return syracuse(3 * n + 1, sequence)\n",
    "\n",
    "# Points de départ pour différents tests\n",
    "points_de_depart = [10, 20, 5, 7]\n",
    "\n",
    "# Vérification de la conjecture de Syracuse pour chaque point de départ\n",
    "for point_de_depart in points_de_depart:\n",
    "    suite = syracuse(point_de_depart)\n",
    "\n",
    "    print(f\"\\nSuite de Syracuse pour le point de départ {point_de_depart} : {suite}\")\n",
    "\n",
    "    # Vérification de la conjecture de Syracuse\n",
    "    if suite[-1] == 1:\n",
    "        print(\"La conjecture de Syracuse est vérifiée.\")\n",
    "        cycle_trivial = suite[-3:]  # Les trois derniers éléments de la suite\n",
    "        print(f\"Cycle trivial : {cycle_trivial}\")\n",
    "    else:\n",
    "        print(\"La conjecture de Syracuse n'est pas vérifiée.\")\n",
    "\n",
    "        \n",
    "        "
   ]
  },
  {
   "cell_type": "markdown",
   "id": "bf1ce352",
   "metadata": {},
   "source": [
    "# Attribution de la structure secondaire des acides aminés d'une protéine (exercice +++)"
   ]
  },
  {
   "cell_type": "code",
   "execution_count": 7,
   "id": "bd7f67e1",
   "metadata": {},
   "outputs": [
    {
     "name": "stdout",
     "output_type": "stream",
     "text": [
      "Acide aminé 1: [48.6, 53.4] n'est pas en hélice.\n",
      "Acide aminé 2: [-124.9, 156.7] n'est pas en hélice.\n",
      "Acide aminé 3: [-66.2, -30.8] est en hélice.\n",
      "Acide aminé 4: [-58.8, -43.1] est en hélice.\n",
      "Acide aminé 5: [-73.9, -40.6] est en hélice.\n",
      "Acide aminé 6: [-53.7, -37.5] est en hélice.\n",
      "Acide aminé 7: [-80.6, -26.0] est en hélice.\n",
      "Acide aminé 8: [-68.5, 135.0] n'est pas en hélice.\n",
      "Acide aminé 9: [-64.9, -23.5] est en hélice.\n",
      "Acide aminé 10: [-66.9, -45.5] est en hélice.\n",
      "Acide aminé 11: [-69.6, -41.0] est en hélice.\n",
      "Acide aminé 12: [-62.7, -37.5] est en hélice.\n",
      "Acide aminé 13: [-68.2, -38.3] est en hélice.\n",
      "Acide aminé 14: [-61.2, -49.1] est en hélice.\n",
      "Acide aminé 15: [-59.7, -41.1] est en hélice.\n"
     ]
    }
   ],
   "source": [
    "liste = angles_phi_psi = [\n",
    "    [48.6, 53.4],[-124.9, 156.7],[-66.2, -30.8],\n",
    "    [-58.8, -43.1],[-73.9, -40.6],[-53.7, -37.5],\n",
    "    [-80.6, -26.0],[-68.5, 135.0],[-64.9, -23.5],\n",
    "    [-66.9, -45.5],[-69.6, -41.0],[-62.7, -37.5],\n",
    "    [-68.2, -38.3],[-61.2, -49.1],[-59.7, -41.1]\n",
    "]\n",
    "\n",
    "def est_en_helice(phi, psi):\n",
    "    helice_alpha_parfaite = {'phi': -57, 'psi': -47}\n",
    "    tolérance = 30\n",
    "\n",
    "    phi_parfait = helice_alpha_parfaite['phi']\n",
    "    psi_parfait = helice_alpha_parfaite['psi']\n",
    "\n",
    "    if abs(phi - phi_parfait) <= tolérance and abs(psi - psi_parfait) <= tolérance:\n",
    "        return True\n",
    "    else:\n",
    "        return False\n",
    "\n",
    "# Test pour chaque acide aminé\n",
    "for i, angles in enumerate(angles_phi_psi, start=1):\n",
    "    phi, psi = angles\n",
    "    en_helice = est_en_helice(phi, psi)\n",
    "\n",
    "    if en_helice:\n",
    "        print(f\"Acide aminé {i}: {angles} est en hélice.\")\n",
    "    else:\n",
    "        print(f\"Acide aminé {i}: {angles} n'est pas en hélice.\")\n",
    "\n",
    "\n"
   ]
  },
  {
   "cell_type": "markdown",
   "id": "3e63a175",
   "metadata": {},
   "source": [
    "#  Détermination des nombres premiers inférieurs à 100 (exercice +++)"
   ]
  },
  {
   "cell_type": "code",
   "execution_count": 10,
   "id": "35222bdc",
   "metadata": {},
   "outputs": [],
   "source": [
    "nombre = list(range(2, 101))\n",
    "\n",
    "# Maintenant, \"nombre\" est une liste de nombres de 2 à 100 inclus.\n"
   ]
  },
  {
   "cell_type": "code",
   "execution_count": 13,
   "id": "24367c29",
   "metadata": {},
   "outputs": [
    {
     "name": "stdout",
     "output_type": "stream",
     "text": [
      "2 est un nombre premier.\n",
      "3 est un nombre premier.\n",
      "4 n'est pas un nombre premier. Il a 3 diviseurs.\n",
      "5 est un nombre premier.\n",
      "6 n'est pas un nombre premier. Il a 4 diviseurs.\n",
      "7 est un nombre premier.\n",
      "8 n'est pas un nombre premier. Il a 4 diviseurs.\n",
      "9 n'est pas un nombre premier. Il a 3 diviseurs.\n",
      "10 n'est pas un nombre premier. Il a 4 diviseurs.\n",
      "11 est un nombre premier.\n",
      "12 n'est pas un nombre premier. Il a 6 diviseurs.\n",
      "13 est un nombre premier.\n",
      "14 n'est pas un nombre premier. Il a 4 diviseurs.\n",
      "15 n'est pas un nombre premier. Il a 4 diviseurs.\n",
      "16 n'est pas un nombre premier. Il a 5 diviseurs.\n",
      "17 est un nombre premier.\n",
      "18 n'est pas un nombre premier. Il a 6 diviseurs.\n",
      "19 est un nombre premier.\n",
      "20 n'est pas un nombre premier. Il a 6 diviseurs.\n",
      "21 n'est pas un nombre premier. Il a 4 diviseurs.\n",
      "22 n'est pas un nombre premier. Il a 4 diviseurs.\n",
      "23 est un nombre premier.\n",
      "24 n'est pas un nombre premier. Il a 8 diviseurs.\n",
      "25 n'est pas un nombre premier. Il a 3 diviseurs.\n",
      "26 n'est pas un nombre premier. Il a 4 diviseurs.\n",
      "27 n'est pas un nombre premier. Il a 4 diviseurs.\n",
      "28 n'est pas un nombre premier. Il a 6 diviseurs.\n",
      "29 est un nombre premier.\n",
      "30 n'est pas un nombre premier. Il a 8 diviseurs.\n",
      "31 est un nombre premier.\n",
      "32 n'est pas un nombre premier. Il a 6 diviseurs.\n",
      "33 n'est pas un nombre premier. Il a 4 diviseurs.\n",
      "34 n'est pas un nombre premier. Il a 4 diviseurs.\n",
      "35 n'est pas un nombre premier. Il a 4 diviseurs.\n",
      "36 n'est pas un nombre premier. Il a 9 diviseurs.\n",
      "37 est un nombre premier.\n",
      "38 n'est pas un nombre premier. Il a 4 diviseurs.\n",
      "39 n'est pas un nombre premier. Il a 4 diviseurs.\n",
      "40 n'est pas un nombre premier. Il a 8 diviseurs.\n",
      "41 est un nombre premier.\n",
      "42 n'est pas un nombre premier. Il a 8 diviseurs.\n",
      "43 est un nombre premier.\n",
      "44 n'est pas un nombre premier. Il a 6 diviseurs.\n",
      "45 n'est pas un nombre premier. Il a 6 diviseurs.\n",
      "46 n'est pas un nombre premier. Il a 4 diviseurs.\n",
      "47 est un nombre premier.\n",
      "48 n'est pas un nombre premier. Il a 10 diviseurs.\n",
      "49 n'est pas un nombre premier. Il a 3 diviseurs.\n",
      "50 n'est pas un nombre premier. Il a 6 diviseurs.\n",
      "51 n'est pas un nombre premier. Il a 4 diviseurs.\n",
      "52 n'est pas un nombre premier. Il a 6 diviseurs.\n",
      "53 est un nombre premier.\n",
      "54 n'est pas un nombre premier. Il a 8 diviseurs.\n",
      "55 n'est pas un nombre premier. Il a 4 diviseurs.\n",
      "56 n'est pas un nombre premier. Il a 8 diviseurs.\n",
      "57 n'est pas un nombre premier. Il a 4 diviseurs.\n",
      "58 n'est pas un nombre premier. Il a 4 diviseurs.\n",
      "59 est un nombre premier.\n",
      "60 n'est pas un nombre premier. Il a 12 diviseurs.\n",
      "61 est un nombre premier.\n",
      "62 n'est pas un nombre premier. Il a 4 diviseurs.\n",
      "63 n'est pas un nombre premier. Il a 6 diviseurs.\n",
      "64 n'est pas un nombre premier. Il a 7 diviseurs.\n",
      "65 n'est pas un nombre premier. Il a 4 diviseurs.\n",
      "66 n'est pas un nombre premier. Il a 8 diviseurs.\n",
      "67 est un nombre premier.\n",
      "68 n'est pas un nombre premier. Il a 6 diviseurs.\n",
      "69 n'est pas un nombre premier. Il a 4 diviseurs.\n",
      "70 n'est pas un nombre premier. Il a 8 diviseurs.\n",
      "71 est un nombre premier.\n",
      "72 n'est pas un nombre premier. Il a 12 diviseurs.\n",
      "73 est un nombre premier.\n",
      "74 n'est pas un nombre premier. Il a 4 diviseurs.\n",
      "75 n'est pas un nombre premier. Il a 6 diviseurs.\n",
      "76 n'est pas un nombre premier. Il a 6 diviseurs.\n",
      "77 n'est pas un nombre premier. Il a 4 diviseurs.\n",
      "78 n'est pas un nombre premier. Il a 8 diviseurs.\n",
      "79 est un nombre premier.\n",
      "80 n'est pas un nombre premier. Il a 10 diviseurs.\n",
      "81 n'est pas un nombre premier. Il a 5 diviseurs.\n",
      "82 n'est pas un nombre premier. Il a 4 diviseurs.\n",
      "83 est un nombre premier.\n",
      "84 n'est pas un nombre premier. Il a 12 diviseurs.\n",
      "85 n'est pas un nombre premier. Il a 4 diviseurs.\n",
      "86 n'est pas un nombre premier. Il a 4 diviseurs.\n",
      "87 n'est pas un nombre premier. Il a 4 diviseurs.\n",
      "88 n'est pas un nombre premier. Il a 8 diviseurs.\n",
      "89 est un nombre premier.\n",
      "90 n'est pas un nombre premier. Il a 12 diviseurs.\n",
      "91 n'est pas un nombre premier. Il a 4 diviseurs.\n",
      "92 n'est pas un nombre premier. Il a 6 diviseurs.\n",
      "93 n'est pas un nombre premier. Il a 4 diviseurs.\n",
      "94 n'est pas un nombre premier. Il a 4 diviseurs.\n",
      "95 n'est pas un nombre premier. Il a 4 diviseurs.\n",
      "96 n'est pas un nombre premier. Il a 12 diviseurs.\n",
      "97 est un nombre premier.\n",
      "98 n'est pas un nombre premier. Il a 6 diviseurs.\n",
      "99 n'est pas un nombre premier. Il a 6 diviseurs.\n",
      "100 n'est pas un nombre premier. Il a 9 diviseurs.\n"
     ]
    }
   ],
   "source": [
    "def est_premier(nombre):\n",
    "    if nombre < 2:\n",
    "        return False\n",
    "    for diviseur in range(2, int(nombre**0.5) + 1):\n",
    "        if nombre % diviseur == 0:\n",
    "            return False\n",
    "    return True\n",
    "\n",
    "for nombre in range(2, 101):\n",
    "    reste_zero_count = sum(1 for diviseur in range(1, nombre + 1) if nombre % diviseur == 0)\n",
    "    \n",
    "    if est_premier(nombre):\n",
    "        print(f\"{nombre} est un nombre premier.\")\n",
    "    else:\n",
    "        print(f\"{nombre} n'est pas un nombre premier. Il a {reste_zero_count} diviseurs.\")\n"
   ]
  },
  {
   "cell_type": "markdown",
   "id": "9661ef25",
   "metadata": {},
   "source": [
    "# Méthode 2 (plus optimale et plus rapide, mais un peu plus compliquée"
   ]
  },
  {
   "cell_type": "code",
   "execution_count": 16,
   "id": "385b1b02",
   "metadata": {},
   "outputs": [
    {
     "name": "stdout",
     "output_type": "stream",
     "text": [
      "Nombres composés de 2 à 100 : [4, 6, 8, 9, 10, 12, 14, 15, 16, 18, 20, 21, 22, 24, 25, 26, 27, 28, 30, 32, 33, 34, 35, 36, 38, 39, 40, 42, 44, 45, 46, 48, 49, 50, 51, 52, 54, 55, 56, 57, 58, 60, 62, 63, 64, 65, 66, 68, 69, 70, 72, 74, 75, 76, 77, 78, 80, 81, 82, 84, 85, 86, 87, 88, 90, 91, 92, 93, 94, 95, 96, 98, 99, 100]\n"
     ]
    }
   ],
   "source": [
    "def est_premier(nombre):\n",
    "    if nombre < 2:\n",
    "        return False\n",
    "    for diviseur in range(2, int(nombre**0.5) + 1):\n",
    "        if nombre % diviseur == 0:\n",
    "            return False\n",
    "    return True\n",
    "\n",
    "nombres_premiers = [2]\n",
    "composes = []\n",
    "\n",
    "for nombre in range(3, 101):\n",
    "    if any(nombre % premier == 0 for premier in nombres_premiers):\n",
    "        composes.append(nombre)\n",
    "    else:\n",
    "        if est_premier(nombre):\n",
    "            nombres_premiers.append(nombre)\n",
    "\n",
    "print(\"Nombres composés de 2 à 100 :\", composes)\n"
   ]
  },
  {
   "cell_type": "markdown",
   "id": "8c722512",
   "metadata": {},
   "source": [
    "# TP ANNEE BISSEXTILE "
   ]
  },
  {
   "cell_type": "markdown",
   "id": "067fc015",
   "metadata": {},
   "source": [
    "# TEST de la fonction input\n"
   ]
  },
  {
   "cell_type": "code",
   "execution_count": 24,
   "id": "1e432b0c",
   "metadata": {},
   "outputs": [
    {
     "name": "stdout",
     "output_type": "stream",
     "text": [
      "Saisissez une année : 1\n"
     ]
    }
   ],
   "source": [
    "annee = input(\"Saisissez une année : \")\n"
   ]
  },
  {
   "cell_type": "code",
   "execution_count": 25,
   "id": "30e0f70f",
   "metadata": {},
   "outputs": [
    {
     "name": "stdout",
     "output_type": "stream",
     "text": [
      "<class 'str'>\n"
     ]
    }
   ],
   "source": [
    "print (type(annee))"
   ]
  },
  {
   "cell_type": "code",
   "execution_count": 27,
   "id": "3b8f0064",
   "metadata": {},
   "outputs": [
    {
     "name": "stdout",
     "output_type": "stream",
     "text": [
      "1\n"
     ]
    }
   ],
   "source": [
    "annee = int (annee)\n",
    "print (annee)"
   ]
  },
  {
   "cell_type": "code",
   "execution_count": 35,
   "id": "0ee7962e",
   "metadata": {},
   "outputs": [
    {
     "name": "stdout",
     "output_type": "stream",
     "text": [
      "Saisissez une année : 2000\n",
      "Bissextile\n"
     ]
    }
   ],
   "source": [
    "annee = int(input(\"Saisissez une année : \"))\n",
    "if (annee % 4 == 0 and annee % 100 != 0) or (annee % 400 == 0):\n",
    "    print(\"Bissextile\")\n",
    "else:\n",
    "    print(\"Pas bissextile\")\n"
   ]
  },
  {
   "cell_type": "markdown",
   "id": "4dccb3ec",
   "metadata": {},
   "source": [
    "# deux programme du prof(la meme chose mais d'une autre façon)/ rappel: dans la programmation chaqu'un ça façon de faire"
   ]
  },
  {
   "cell_type": "code",
   "execution_count": 48,
   "id": "0ea8de4e",
   "metadata": {},
   "outputs": [
    {
     "name": "stdout",
     "output_type": "stream",
     "text": [
      "Saisissez une année : 2000\n",
      "Vrai\n"
     ]
    }
   ],
   "source": [
    "def est_bissextile(annee):\n",
    "    if annee%4 != 0 or (annee%400 != 0 and annee%100 == 0):\n",
    "        return print('Faux')\n",
    "    else: \n",
    "        return print('Vrai')\n",
    "    \n",
    "    \n",
    "    \n",
    "annee = int(input(\"Saisissez une année : \"))\n",
    "\n",
    " \n",
    "\n",
    "est_bissextile(annee)\n"
   ]
  },
  {
   "cell_type": "markdown",
   "id": "336682fa",
   "metadata": {},
   "source": [
    "# Booléens et les conditions\n",
    "\n"
   ]
  },
  {
   "cell_type": "markdown",
   "id": "b9eb0ff2",
   "metadata": {},
   "source": [
    "#définissez une fonction est_impair(n) qui permet de tester si un nombre est impair"
   ]
  },
  {
   "cell_type": "code",
   "execution_count": 54,
   "id": "3b98c295",
   "metadata": {},
   "outputs": [],
   "source": [
    "def est_impaire(nombre):\n",
    "        if nombre%2 == 1:\n",
    "             print ('vrai')\n",
    "        else:\n",
    "             print ('faux')\n",
    "        \n",
    "    \n",
    "\n",
    "        \n",
    "        \n",
    "    "
   ]
  },
  {
   "cell_type": "markdown",
   "id": "94981ae1",
   "metadata": {},
   "source": [
    "#testez la fonction "
   ]
  },
  {
   "cell_type": "code",
   "execution_count": 77,
   "id": "1edb02f3",
   "metadata": {},
   "outputs": [],
   "source": [
    "def est_impair(nombre):\n",
    "    if nombre%2 == 1:\n",
    "         test ='vrai'\n",
    "    else :\n",
    "         test='faux'\n",
    "    return test\n",
    "                \n",
    "   \n"
   ]
  },
  {
   "cell_type": "code",
   "execution_count": 78,
   "id": "d4258014",
   "metadata": {},
   "outputs": [
    {
     "name": "stdout",
     "output_type": "stream",
     "text": [
      "est-ce que 100 est impair? faux\n",
      "est-ce que 103 est impair? vrai\n"
     ]
    }
   ],
   "source": [
    "print(\"est-ce que 100 est impair?\", est_impair(100))\n",
    "print(\"est-ce que 103 est impair?\", est_impair(103))"
   ]
  },
  {
   "cell_type": "code",
   "execution_count": 98,
   "id": "3fc8a0b5",
   "metadata": {},
   "outputs": [],
   "source": [
    "#modifiez la fonction peut_conduire_voiture (age) en ajoutant le paramètre booléen avec_permis\n",
    "def peut_conduire_voiture(age, permis) :\n",
    "    \"\"\"Est-ce que la personne est assez agée pour pouvoir conduire une voiture\"\"\"\n",
    "    \n",
    "    return age >= 18 and permis\n"
   ]
  },
  {
   "cell_type": "code",
   "execution_count": 99,
   "id": "02d4dc54",
   "metadata": {},
   "outputs": [
    {
     "name": "stdout",
     "output_type": "stream",
     "text": [
      "Est-ce qu'une personne de 17 ans sans permis peut conduire une voiture? False\n",
      "Est-ce qu'une personne de 99 ans avec permis peut conduire une voiture? True\n",
      "Est-ce qu'une personne de 23 ans sans permis peut conduire une voiture? False\n"
     ]
    }
   ],
   "source": [
    "#testez\n",
    "print(\"Est-ce qu'une personne de 17 ans sans permis peut conduire une voiture?\", peut_conduire_voiture(17,False))\n",
    "print(\"Est-ce qu'une personne de 99 ans avec permis peut conduire une voiture?\", peut_conduire_voiture(99,True))\n",
    "print(\"Est-ce qu'une personne de 23 ans sans permis peut conduire une voiture?\", peut_conduire_voiture(23,False))"
   ]
  },
  {
   "cell_type": "code",
   "execution_count": null,
   "id": "41dfa105",
   "metadata": {},
   "outputs": [],
   "source": []
  },
  {
   "cell_type": "code",
   "execution_count": null,
   "id": "ec601bfa",
   "metadata": {},
   "outputs": [],
   "source": []
  },
  {
   "cell_type": "code",
   "execution_count": null,
   "id": "39d55bf1",
   "metadata": {},
   "outputs": [],
   "source": []
  },
  {
   "cell_type": "code",
   "execution_count": null,
   "id": "e0b12723",
   "metadata": {},
   "outputs": [],
   "source": []
  },
  {
   "cell_type": "code",
   "execution_count": null,
   "id": "0629572d",
   "metadata": {},
   "outputs": [],
   "source": []
  }
 ],
 "metadata": {
  "kernelspec": {
   "display_name": "Python 3 (ipykernel)",
   "language": "python",
   "name": "python3"
  },
  "language_info": {
   "codemirror_mode": {
    "name": "ipython",
    "version": 3
   },
   "file_extension": ".py",
   "mimetype": "text/x-python",
   "name": "python",
   "nbconvert_exporter": "python",
   "pygments_lexer": "ipython3",
   "version": "3.11.5"
  }
 },
 "nbformat": 4,
 "nbformat_minor": 5
}
