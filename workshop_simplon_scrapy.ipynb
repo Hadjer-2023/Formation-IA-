{
 "cells": [
  {
   "cell_type": "code",
   "execution_count": 20,
   "id": "835e4c2b-8b66-4a33-b25d-00697f1e4607",
   "metadata": {},
   "outputs": [
    {
     "name": "stderr",
     "output_type": "stream",
     "text": [
      "Traceback (most recent call last):\n",
      "  File \"<frozen runpy>\", line 198, in _run_module_as_main\n",
      "  File \"<frozen runpy>\", line 88, in _run_code\n",
      "  File \"C:\\Users\\hlakh\\anaconda3\\envs\\scraping\\Scripts\\scrapy.exe\\__main__.py\", line 7, in <module>\n",
      "  File \"C:\\Users\\hlakh\\anaconda3\\envs\\scraping\\Lib\\site-packages\\scrapy\\cmdline.py\", line 128, in execute\n",
      "    settings = get_project_settings()\n",
      "               ^^^^^^^^^^^^^^^^^^^^^^\n",
      "  File \"C:\\Users\\hlakh\\anaconda3\\envs\\scraping\\Lib\\site-packages\\scrapy\\utils\\project.py\", line 71, in get_project_settings\n",
      "    settings.setmodule(settings_module_path, priority=\"project\")\n",
      "  File \"C:\\Users\\hlakh\\anaconda3\\envs\\scraping\\Lib\\site-packages\\scrapy\\settings\\__init__.py\", line 385, in setmodule\n",
      "    module = import_module(module)\n",
      "             ^^^^^^^^^^^^^^^^^^^^^\n",
      "  File \"C:\\Users\\hlakh\\anaconda3\\envs\\scraping\\Lib\\importlib\\__init__.py\", line 126, in import_module\n",
      "    return _bootstrap._gcd_import(name[level:], package, level)\n",
      "           ^^^^^^^^^^^^^^^^^^^^^^^^^^^^^^^^^^^^^^^^^^^^^^^^^^^^\n",
      "  File \"<frozen importlib._bootstrap>\", line 1204, in _gcd_import\n",
      "  File \"<frozen importlib._bootstrap>\", line 1176, in _find_and_load\n",
      "  File \"<frozen importlib._bootstrap>\", line 1140, in _find_and_load_unlocked\n",
      "ModuleNotFoundError: No module named 'myproject.settings'\n"
     ]
    }
   ],
   "source": [
    "!scrapy startproject tutorial"
   ]
  },
  {
   "cell_type": "code",
   "execution_count": null,
   "id": "b9263b21-22d8-46e9-a4f7-a33aa46124a7",
   "metadata": {},
   "outputs": [],
   "source": []
  },
  {
   "cell_type": "code",
   "execution_count": null,
   "id": "b5ad691e-870c-4483-a054-81a79b8f3aa8",
   "metadata": {},
   "outputs": [],
   "source": []
  },
  {
   "cell_type": "code",
   "execution_count": null,
   "id": "001d064a-b282-4e6b-af48-6539447deca9",
   "metadata": {},
   "outputs": [],
   "source": []
  },
  {
   "cell_type": "code",
   "execution_count": null,
   "id": "ce6b369c-8141-4803-a0e3-d50bf6838a78",
   "metadata": {},
   "outputs": [],
   "source": []
  },
  {
   "cell_type": "code",
   "execution_count": null,
   "id": "91241a94-603f-4552-b27a-792690320400",
   "metadata": {},
   "outputs": [],
   "source": []
  },
  {
   "cell_type": "code",
   "execution_count": null,
   "id": "88aedec6-245d-485d-837f-b08637f344f6",
   "metadata": {},
   "outputs": [],
   "source": []
  }
 ],
 "metadata": {
  "kernelspec": {
   "display_name": "Python 3 (ipykernel)",
   "language": "python",
   "name": "python3"
  },
  "language_info": {
   "codemirror_mode": {
    "name": "ipython",
    "version": 3
   },
   "file_extension": ".py",
   "mimetype": "text/x-python",
   "name": "python",
   "nbconvert_exporter": "python",
   "pygments_lexer": "ipython3",
   "version": "3.11.9"
  }
 },
 "nbformat": 4,
 "nbformat_minor": 5
}
