{
 "cells": [
  {
   "cell_type": "markdown",
   "id": "07de5f68",
   "metadata": {},
   "source": [
    "### Workshop_python_2_bases_de_données"
   ]
  },
  {
   "cell_type": "markdown",
   "id": "ec110ffe",
   "metadata": {},
   "source": [
    "# step_1_dict_vide: "
   ]
  },
  {
   "cell_type": "code",
   "execution_count": 2,
   "id": "a68f77aa",
   "metadata": {},
   "outputs": [],
   "source": [
    "client1 = {}"
   ]
  },
  {
   "cell_type": "code",
   "execution_count": 15,
   "id": "427b9d4e",
   "metadata": {},
   "outputs": [],
   "source": [
    "cles_client1 = ['nom', 'prenom', 'sex','solde']\n"
   ]
  },
  {
   "cell_type": "markdown",
   "id": "729dbb2a",
   "metadata": {},
   "source": [
    "# step_2_recuperation des données:"
   ]
  },
  {
   "cell_type": "markdown",
   "id": "7831a0c9",
   "metadata": {},
   "source": [
    "# les 4 données: "
   ]
  },
  {
   "cell_type": "markdown",
   "id": "b415682b",
   "metadata": {},
   "source": [
    "# utilisation de la boucle: "
   ]
  },
  {
   "cell_type": "code",
   "execution_count": 6,
   "id": "5dc7f19c",
   "metadata": {},
   "outputs": [
    {
     "name": "stdout",
     "output_type": "stream",
     "text": [
      "Entrez la valeur pour nom: lakhdar ezzine\n",
      "Entrez la valeur pour prenom: hadjer\n",
      "Entrez la valeur pour sex: femme\n",
      "Entrez la valeur pour solde: 1000\n",
      "données du client1 : {'nom': 'lakhdar ezzine', 'prenom': 'hadjer', 'sex': 'femme', 'solde': '1000'}\n"
     ]
    }
   ],
   "source": [
    "for cles in client1:\n",
    "    valeur = input(f\"Entrez la valeur pour {cles}: \")\n",
    "    client1[cles] = valeur\n",
    "print (\"données du client1 :\", client1)\n",
    "\n"
   ]
  },
  {
   "cell_type": "markdown",
   "id": "3c743b51",
   "metadata": {},
   "source": [
    "# step 3 : crée 12 dict vide "
   ]
  },
  {
   "cell_type": "code",
   "execution_count": 4,
   "id": "27dfc48c",
   "metadata": {},
   "outputs": [
    {
     "name": "stdout",
     "output_type": "stream",
     "text": [
      "Entrez la valeur pour nom: lakhdar ezzine\n",
      "Entrez la valeur pour prenom: hadjer\n",
      "Entrez la valeur pour sex: femme\n",
      "Entrez la valeur pour solde: 1000\n",
      "Données du client1 : {'nom': 'lakhdar ezzine', 'prenom': 'hadjer', 'sex': 'femme', 'solde': '1000'}\n"
     ]
    }
   ],
   "source": [
    "# Créer le premier dictionnaire avec les clés\n",
    "client1 = {}\n",
    "\n",
    "cles_client1 = ['nom', 'prenom', 'sex', 'solde']\n",
    "\n",
    "for cle in cles_client1:\n",
    "    valeur = input(f\"Entrez la valeur pour {cle}: \")\n",
    "    client1[cle] = valeur\n",
    "\n",
    "print(\"Données du client1 :\", client1)\n",
    "\n",
    "# Créer une liste de 12 autres dictionnaires avec les mêmes clés\n",
    "liste_clients = [cles_client1.copy() for _ in range(12)]\n",
    "\n",
    "    \n",
    "    \n",
    "\n",
    "\n"
   ]
  },
  {
   "cell_type": "markdown",
   "id": "6a69f4d5",
   "metadata": {},
   "source": [
    "# step 4:  boucle"
   ]
  },
  {
   "cell_type": "code",
   "execution_count": null,
   "id": "01b28443",
   "metadata": {},
   "outputs": [],
   "source": [
    "# Créer une liste de clés pour les clients\n",
    "cles_client1 = ['nom', 'prenom', 'sex', 'solde']\n",
    "\n",
    "# Créer une liste de clients\n",
    "liste_clients = []\n",
    "\n",
    "# Saisir les données pour le premier client\n",
    "client1 = {}\n",
    "for cle in cles_client1:\n",
    "    valeur = input(f\"Entrez la valeur pour {cle}: \")\n",
    "    client1[cle] = valeur\n",
    "\n",
    "# Ajouter le premier client à la liste\n",
    "liste_clients.append(client1)\n",
    "\n",
    "# Saisir les données pour les 12 autres clients\n",
    "for _ in range(12):\n",
    "    nouveau_client = {}\n",
    "    for cle in cles_client1:\n",
    "        valeur = input(f\"Entrez la valeur pour {cle}: \")\n",
    "        nouveau_client[cle] = valeur\n",
    "    liste_clients.append(nouveau_client)\n",
    "\n",
    "# Afficher la liste des clients\n",
    "for i, client in enumerate(liste_clients, start=1):\n",
    "    print(f\"Client {i} :\", client)\n"
   ]
  },
  {
   "cell_type": "markdown",
   "id": "5f25dce0",
   "metadata": {},
   "source": [
    "# strep 5: retirer 500 euro pour client 4 "
   ]
  },
  {
   "cell_type": "code",
   "execution_count": 30,
   "id": "47d36a28",
   "metadata": {},
   "outputs": [
    {
     "name": "stdout",
     "output_type": "stream",
     "text": [
      "Entrez la valeur pour nom: agu\n",
      "Entrez la valeur pour prenom: patrick\n",
      "Entrez la valeur pour sex: m\n",
      "Entrez la valeur pour solde: 3000\n",
      "Entrez la valeur pour nom: janas\n",
      "Entrez la valeur pour prenom: batrozs\n",
      "Entrez la valeur pour sex: m\n",
      "Entrez la valeur pour solde: 2000\n",
      "Entrez la valeur pour nom: mon\n",
      "Entrez la valeur pour prenom: mon\n",
      "Entrez la valeur pour sex: m\n",
      "Entrez la valeur pour solde: 1500\n",
      "Entrez la valeur pour nom: bonin\n",
      "Entrez la valeur pour prenom: philippe\n",
      "Entrez la valeur pour sex: m\n",
      "Entrez la valeur pour solde: 4500\n",
      "Entrez la valeur pour nom: carey\n",
      "Entrez la valeur pour prenom: raphael\n",
      "Entrez la valeur pour sex: m\n",
      "Entrez la valeur pour solde: 5000\n",
      "Entrez la valeur pour nom: chedelink\n",
      "Entrez la valeur pour prenom: alexandre\n",
      "Entrez la valeur pour sex: m\n",
      "Entrez la valeur pour solde: 3500\n",
      "Entrez la valeur pour nom: chkiri\n",
      "Entrez la valeur pour prenom: hassan\n",
      "Entrez la valeur pour sex: m\n",
      "Entrez la valeur pour solde: 2500\n",
      "Entrez la valeur pour nom: desolin \n",
      "Entrez la valeur pour prenom: thibeault\n",
      "Entrez la valeur pour sex: m\n",
      "Entrez la valeur pour solde: 4000\n",
      "Entrez la valeur pour nom: lakhdar ezzine\n",
      "Entrez la valeur pour prenom: hadjer\n",
      "Entrez la valeur pour sex: f\n",
      "Entrez la valeur pour solde: 1000\n",
      "Entrez la valeur pour nom: meunier \n",
      "Entrez la valeur pour prenom: alexis\n",
      "Entrez la valeur pour sex: 3000\n",
      "Entrez la valeur pour solde: mouhamed\n"
     ]
    },
    {
     "ename": "KeyboardInterrupt",
     "evalue": "Interrupted by user",
     "output_type": "error",
     "traceback": [
      "\u001b[1;31m---------------------------------------------------------------------------\u001b[0m",
      "\u001b[1;31mKeyboardInterrupt\u001b[0m                         Traceback (most recent call last)",
      "Cell \u001b[1;32mIn[30], line 20\u001b[0m\n\u001b[0;32m     18\u001b[0m nouveau_client \u001b[38;5;241m=\u001b[39m {}\n\u001b[0;32m     19\u001b[0m \u001b[38;5;28;01mfor\u001b[39;00m cle \u001b[38;5;129;01min\u001b[39;00m cles_client1:\n\u001b[1;32m---> 20\u001b[0m     valeur \u001b[38;5;241m=\u001b[39m \u001b[38;5;28minput\u001b[39m(\u001b[38;5;124mf\u001b[39m\u001b[38;5;124m\"\u001b[39m\u001b[38;5;124mEntrez la valeur pour \u001b[39m\u001b[38;5;132;01m{\u001b[39;00mcle\u001b[38;5;132;01m}\u001b[39;00m\u001b[38;5;124m: \u001b[39m\u001b[38;5;124m\"\u001b[39m)\n\u001b[0;32m     21\u001b[0m     nouveau_client[cle] \u001b[38;5;241m=\u001b[39m valeur\n\u001b[0;32m     22\u001b[0m liste_clients\u001b[38;5;241m.\u001b[39mappend(nouveau_client)\n",
      "File \u001b[1;32m~\\anaconda3\\Lib\\site-packages\\ipykernel\\kernelbase.py:1202\u001b[0m, in \u001b[0;36mKernel.raw_input\u001b[1;34m(self, prompt)\u001b[0m\n\u001b[0;32m   1200\u001b[0m     msg \u001b[38;5;241m=\u001b[39m \u001b[38;5;124m\"\u001b[39m\u001b[38;5;124mraw_input was called, but this frontend does not support input requests.\u001b[39m\u001b[38;5;124m\"\u001b[39m\n\u001b[0;32m   1201\u001b[0m     \u001b[38;5;28;01mraise\u001b[39;00m StdinNotImplementedError(msg)\n\u001b[1;32m-> 1202\u001b[0m \u001b[38;5;28;01mreturn\u001b[39;00m \u001b[38;5;28mself\u001b[39m\u001b[38;5;241m.\u001b[39m_input_request(\n\u001b[0;32m   1203\u001b[0m     \u001b[38;5;28mstr\u001b[39m(prompt),\n\u001b[0;32m   1204\u001b[0m     \u001b[38;5;28mself\u001b[39m\u001b[38;5;241m.\u001b[39m_parent_ident[\u001b[38;5;124m\"\u001b[39m\u001b[38;5;124mshell\u001b[39m\u001b[38;5;124m\"\u001b[39m],\n\u001b[0;32m   1205\u001b[0m     \u001b[38;5;28mself\u001b[39m\u001b[38;5;241m.\u001b[39mget_parent(\u001b[38;5;124m\"\u001b[39m\u001b[38;5;124mshell\u001b[39m\u001b[38;5;124m\"\u001b[39m),\n\u001b[0;32m   1206\u001b[0m     password\u001b[38;5;241m=\u001b[39m\u001b[38;5;28;01mFalse\u001b[39;00m,\n\u001b[0;32m   1207\u001b[0m )\n",
      "File \u001b[1;32m~\\anaconda3\\Lib\\site-packages\\ipykernel\\kernelbase.py:1245\u001b[0m, in \u001b[0;36mKernel._input_request\u001b[1;34m(self, prompt, ident, parent, password)\u001b[0m\n\u001b[0;32m   1242\u001b[0m \u001b[38;5;28;01mexcept\u001b[39;00m \u001b[38;5;167;01mKeyboardInterrupt\u001b[39;00m:\n\u001b[0;32m   1243\u001b[0m     \u001b[38;5;66;03m# re-raise KeyboardInterrupt, to truncate traceback\u001b[39;00m\n\u001b[0;32m   1244\u001b[0m     msg \u001b[38;5;241m=\u001b[39m \u001b[38;5;124m\"\u001b[39m\u001b[38;5;124mInterrupted by user\u001b[39m\u001b[38;5;124m\"\u001b[39m\n\u001b[1;32m-> 1245\u001b[0m     \u001b[38;5;28;01mraise\u001b[39;00m \u001b[38;5;167;01mKeyboardInterrupt\u001b[39;00m(msg) \u001b[38;5;28;01mfrom\u001b[39;00m \u001b[38;5;28;01mNone\u001b[39;00m\n\u001b[0;32m   1246\u001b[0m \u001b[38;5;28;01mexcept\u001b[39;00m \u001b[38;5;167;01mException\u001b[39;00m:\n\u001b[0;32m   1247\u001b[0m     \u001b[38;5;28mself\u001b[39m\u001b[38;5;241m.\u001b[39mlog\u001b[38;5;241m.\u001b[39mwarning(\u001b[38;5;124m\"\u001b[39m\u001b[38;5;124mInvalid Message:\u001b[39m\u001b[38;5;124m\"\u001b[39m, exc_info\u001b[38;5;241m=\u001b[39m\u001b[38;5;28;01mTrue\u001b[39;00m)\n",
      "\u001b[1;31mKeyboardInterrupt\u001b[0m: Interrupted by user"
     ]
    }
   ],
   "source": [
    "# Créer une liste de clés pour les clients\n",
    "cles_client1 = ['nom', 'prenom', 'sex', 'solde']\n",
    "\n",
    "# Créer une liste de clients\n",
    "liste_clients = []\n",
    "\n",
    "# Saisir les données pour le premier client\n",
    "client1 = {}\n",
    "for cle in cles_client1:\n",
    "    valeur = input(f\"Entrez la valeur pour {cle}: \")\n",
    "    client1[cle] = valeur\n",
    "\n",
    "# Ajouter le premier client à la liste\n",
    "liste_clients.append(client1)\n",
    "\n",
    "# Saisir les données pour les 12 autres clients\n",
    "for _ in range(12):\n",
    "    nouveau_client = {}\n",
    "    for cle in cles_client1:\n",
    "        valeur = input(f\"Entrez la valeur pour {cle}: \")\n",
    "        nouveau_client[cle] = valeur\n",
    "    liste_clients.append(nouveau_client)\n",
    "\n",
    "    # Afficher la liste des clients\n",
    "for i, client in enumerate(liste_clients, start=1):\n",
    "    print(f\"Client {i} :\", client)\n",
    "    \n",
    "liste_client = [\"client1\", \"client2\", \"client3\", \"client4\", \"client5\", \"client6\", \"client7\", \"client8\", \"client9\", \"client10\" , \"client11\", \"client12\", \"client13\"]\n",
    "\n",
    "print (liste_client[0])\n"
   ]
  },
  {
   "cell_type": "code",
   "execution_count": 25,
   "id": "99780ee9",
   "metadata": {},
   "outputs": [
    {
     "name": "stdout",
     "output_type": "stream",
     "text": [
      "Résultat ==  1500\n"
     ]
    }
   ],
   "source": [
    "for cle, valeur in client1.items():\n",
    "    if cle == 'solde':\n",
    "        resultat = int(valeur) - 500\n",
    "        print('Résultat == ', resultat)\n",
    "       \n",
    "\n"
   ]
  },
  {
   "cell_type": "markdown",
   "id": "c215f456",
   "metadata": {},
   "source": [
    "##  step 6 : solde total"
   ]
  },
  {
   "cell_type": "code",
   "execution_count": 31,
   "id": "bdcc164c",
   "metadata": {},
   "outputs": [
    {
     "name": "stdout",
     "output_type": "stream",
     "text": [
      "Somme des soldes : 2500\n"
     ]
    }
   ],
   "source": [
    "# Créer une liste de clients (exemplaire)\n",
    "liste_clients = [\n",
    "    {'nom': 'Client1', 'prenom': 'Prenom1', 'sex': 'M', 'solde': 1000},\n",
    "    {'nom': 'Client2', 'prenom': 'Prenom2', 'sex': 'F', 'solde': 1500},\n",
    "    # ... Ajouter d'autres clients avec leurs données ...\n",
    "]\n",
    "\n",
    "# Initialiser la somme des soldes à zéro\n",
    "somme_soldes = 0\n",
    "\n",
    "# Parcourir la liste des clients et additionner les soldes\n",
    "for client in liste_clients:\n",
    "    if 'solde' in client:\n",
    "        somme_soldes += int(client['solde'])\n",
    "\n",
    "# Afficher la somme des soldes\n",
    "print('Somme des soldes :', somme_soldes)\n"
   ]
  },
  {
   "cell_type": "markdown",
   "id": "f9c3536a",
   "metadata": {},
   "source": [
    "### step 7 : sexe client"
   ]
  },
  {
   "cell_type": "code",
   "execution_count": 44,
   "id": "edb0bc31",
   "metadata": {},
   "outputs": [
    {
     "name": "stdout",
     "output_type": "stream",
     "text": [
      "Somme des soldes : 2500\n",
      "Somme des soldes : 2500\n",
      "Sexe = False\n",
      "Sexe = True\n"
     ]
    }
   ],
   "source": [
    "# Créer une liste de clients (exemplaire)\n",
    "liste_clients = [\n",
    "    {'nom': 'Client1', 'prenom': 'Prenom1', 'sex': 'M', 'solde': 1000},\n",
    "    {'nom': 'Client2', 'prenom': 'Prenom2', 'sex': 'F', 'solde': 1500},\n",
    "    # ... Ajouter d'autres clients avec leurs données ...\n",
    "]\n",
    "\n",
    "# Initialiser la somme des soldes à zéro\n",
    "somme_soldes = 0\n",
    "\n",
    "# Parcourir la liste des clients et additionner les soldes\n",
    "for client in liste_clients:\n",
    "    if 'solde' in client:\n",
    "        somme_soldes += int(client['solde'])\n",
    "\n",
    "# Afficher la somme des soldes\n",
    "print('Somme des soldes :', somme_soldes)\n",
    "\n",
    "\n",
    "# Créer une liste de clients (exemplaire)\n",
    "liste_clients = [\n",
    "    {'nom': 'Client1', 'prenom': 'Prenom1', 'sex': 'M', 'solde': 1000},\n",
    "    {'nom': 'Client2', 'prenom': 'Prenom2', 'sex': 'F', 'solde': 1500},\n",
    "    # ... Ajouter d'autres clients avec leurs données ...\n",
    "]\n",
    "\n",
    "# Initialiser la somme des soldes à zéro\n",
    "somme_soldes = 0\n",
    "\n",
    "# Parcourir la liste des clients et additionner les soldes\n",
    "for client in liste_clients:\n",
    "    if 'solde' in client:\n",
    "        somme_soldes += int(client['solde'])\n",
    "\n",
    "# Afficher la somme des soldes\n",
    "print('Somme des soldes :', somme_soldes)\n",
    "\n",
    "            \n",
    "for client in liste_clients:\n",
    "    if 'sex' in client and client['sex'] == 'F':\n",
    "        print('Sexe =', True)\n",
    "    else:\n",
    "        print('Sexe =', False)"
   ]
  },
  {
   "cell_type": "markdown",
   "id": "fcef612f",
   "metadata": {},
   "source": [
    "# step : ajout de client"
   ]
  },
  {
   "cell_type": "code",
   "execution_count": 52,
   "id": "84075baf",
   "metadata": {},
   "outputs": [
    {
     "name": "stdout",
     "output_type": "stream",
     "text": [
      "Somme des soldes : 2500\n",
      "Somme des soldes : 2500\n",
      "Sexe = False\n",
      "Sexe = True\n",
      "Client 1 : {'nom': 'Client1', 'prenom': 'Prenom1', 'sex': 'M', 'solde': 1000}\n",
      "Client 2 : {'nom': 'Client2', 'prenom': 'Prenom2', 'sex': 'F', 'solde': 1500}\n",
      "Client 3 : {'nom': 'KURDY', 'prenom': 'BASSAM', 'sex': 'M', 'solde': 2000}\n"
     ]
    }
   ],
   "source": [
    "# Créer une liste de clients (exemplaire)\n",
    "liste_clients = [\n",
    "    {'nom': 'Client1', 'prenom': 'Prenom1', 'sex': 'M', 'solde': 1000},\n",
    "    {'nom': 'Client2', 'prenom': 'Prenom2', 'sex': 'F', 'solde': 1500},\n",
    "    # ... Ajouter d'autres clients avec leurs données ...\n",
    "]\n",
    "\n",
    "# Initialiser la somme des soldes à zéro\n",
    "somme_soldes = 0\n",
    "\n",
    "# Parcourir la liste des clients et additionner les soldes\n",
    "for client in liste_clients:\n",
    "    if 'solde' in client:\n",
    "        somme_soldes += int(client['solde'])\n",
    "\n",
    "# Afficher la somme des soldes\n",
    "print('Somme des soldes :', somme_soldes)\n",
    "\n",
    "\n",
    "# Créer une liste de clients (exemplaire)\n",
    "liste_clients = [\n",
    "    {'nom': 'Client1', 'prenom': 'Prenom1', 'sex': 'M', 'solde': 1000},\n",
    "    {'nom': 'Client2', 'prenom': 'Prenom2', 'sex': 'F', 'solde': 1500},\n",
    "    # ... Ajouter d'autres clients avec leurs données ...\n",
    "]\n",
    "\n",
    "# Initialiser la somme des soldes à zéro\n",
    "somme_soldes = 0\n",
    "\n",
    "# Parcourir la liste des clients et additionner les soldes\n",
    "for client in liste_clients:\n",
    "    if 'solde' in client:\n",
    "        somme_soldes += int(client['solde'])\n",
    "\n",
    "# Afficher la somme des soldes\n",
    "print('Somme des soldes :', somme_soldes)\n",
    "\n",
    "            \n",
    "for client in liste_clients:\n",
    "    if 'sex' in client and client['sex'] == 'F':\n",
    "        print('Sexe =', True)\n",
    "    else:\n",
    "        print('Sexe =', False)\n",
    "\n",
    "\n",
    "\n",
    "\n",
    "# Ajouter un nouveau client\n",
    "client14 = {'nom': 'KURDY', 'prenom': 'BASSAM', 'sex': 'M', 'solde': 2000}\n",
    "liste_clients.append(client14)\n",
    "\n",
    "# Afficher la liste mise à jour\n",
    "for i, client in enumerate(liste_clients, start=1):\n",
    "    print(f\"Client {i} :\", client)\n"
   ]
  },
  {
   "cell_type": "markdown",
   "id": "6b65ac92",
   "metadata": {},
   "source": [
    "# BONUS la recursivité"
   ]
  },
  {
   "cell_type": "markdown",
   "id": "de8a7228",
   "metadata": {},
   "source": [
    "# ecrire la fonction de n!"
   ]
  },
  {
   "cell_type": "code",
   "execution_count": 66,
   "id": "65defd52",
   "metadata": {},
   "outputs": [
    {
     "name": "stdout",
     "output_type": "stream",
     "text": [
      "2\n"
     ]
    }
   ],
   "source": [
    "def factorielle(n):\n",
    "    if n == 0:\n",
    "        n_fact = 1\n",
    "    else:\n",
    "        n_fact = n*(factorielle(n-1))\n",
    "    return n_fact\n",
    "resultat = factorielle(2)\n",
    "print (resultat)"
   ]
  },
  {
   "cell_type": "code",
   "execution_count": null,
   "id": "158efa3a",
   "metadata": {},
   "outputs": [],
   "source": []
  },
  {
   "cell_type": "code",
   "execution_count": null,
   "id": "a82aabd1",
   "metadata": {},
   "outputs": [],
   "source": []
  }
 ],
 "metadata": {
  "kernelspec": {
   "display_name": "Python 3 (ipykernel)",
   "language": "python",
   "name": "python3"
  },
  "language_info": {
   "codemirror_mode": {
    "name": "ipython",
    "version": 3
   },
   "file_extension": ".py",
   "mimetype": "text/x-python",
   "name": "python",
   "nbconvert_exporter": "python",
   "pygments_lexer": "ipython3",
   "version": "3.11.5"
  }
 },
 "nbformat": 4,
 "nbformat_minor": 5
}
